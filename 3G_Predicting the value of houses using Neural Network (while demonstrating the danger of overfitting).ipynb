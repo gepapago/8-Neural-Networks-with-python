{
  "metadata": {
    "kernelspec": {
      "name": "python",
      "display_name": "Python (Pyodide)",
      "language": "python"
    },
    "language_info": {
      "codemirror_mode": {
        "name": "python",
        "version": 3
      },
      "file_extension": ".py",
      "mimetype": "text/x-python",
      "name": "python",
      "nbconvert_exporter": "python",
      "pygments_lexer": "ipython3",
      "version": "3.8"
    },
    "celltoolbar": "Slideshow"
  },
  "nbformat_minor": 4,
  "nbformat": 4,
  "cells": [
    {
      "cell_type": "markdown",
      "source": "# Predicting the value of houses using Neural Network (while demonstrating the danger of overfitting)",
      "metadata": {
        "slideshow": {
          "slide_type": "slide"
        }
      }
    },
    {
      "cell_type": "code",
      "source": "import matplotlib.pyplot as plt\n\nimport tensorflow as tf\nfrom tensorflow import keras\nfrom tensorflow.keras import layers\n\nfrom sklearn.datasets import fetch_california_housing\nfrom sklearn.model_selection import train_test_split\n\nimport pandas as pd\nimport numpy as np\n\ntf.random.set_seed(0) # for replicability purposes, not for production",
      "metadata": {
        "slideshow": {
          "slide_type": "slide"
        }
      },
      "outputs": [],
      "execution_count": 1
    },
    {
      "cell_type": "markdown",
      "source": "* To see how we can predict a numerical value, we'll go back to our familiar dataset of California homes.",
      "metadata": {
        "slideshow": {
          "slide_type": "slide"
        }
      }
    },
    {
      "cell_type": "code",
      "source": "california = fetch_california_housing(as_frame=True)\ncalifornia.data",
      "metadata": {
        "slideshow": {
          "slide_type": "fragment"
        }
      },
      "outputs": [
        {
          "data": {
            "text/html": [
              "<div>\n",
              "<style scoped>\n",
              "    .dataframe tbody tr th:only-of-type {\n",
              "        vertical-align: middle;\n",
              "    }\n",
              "\n",
              "    .dataframe tbody tr th {\n",
              "        vertical-align: top;\n",
              "    }\n",
              "\n",
              "    .dataframe thead th {\n",
              "        text-align: right;\n",
              "    }\n",
              "</style>\n",
              "<table border=\"1\" class=\"dataframe\">\n",
              "  <thead>\n",
              "    <tr style=\"text-align: right;\">\n",
              "      <th></th>\n",
              "      <th>MedInc</th>\n",
              "      <th>HouseAge</th>\n",
              "      <th>AveRooms</th>\n",
              "      <th>AveBedrms</th>\n",
              "      <th>Population</th>\n",
              "      <th>AveOccup</th>\n",
              "      <th>Latitude</th>\n",
              "      <th>Longitude</th>\n",
              "    </tr>\n",
              "  </thead>\n",
              "  <tbody>\n",
              "    <tr>\n",
              "      <th>0</th>\n",
              "      <td>8.3252</td>\n",
              "      <td>41.0</td>\n",
              "      <td>6.984127</td>\n",
              "      <td>1.023810</td>\n",
              "      <td>322.0</td>\n",
              "      <td>2.555556</td>\n",
              "      <td>37.88</td>\n",
              "      <td>-122.23</td>\n",
              "    </tr>\n",
              "    <tr>\n",
              "      <th>1</th>\n",
              "      <td>8.3014</td>\n",
              "      <td>21.0</td>\n",
              "      <td>6.238137</td>\n",
              "      <td>0.971880</td>\n",
              "      <td>2401.0</td>\n",
              "      <td>2.109842</td>\n",
              "      <td>37.86</td>\n",
              "      <td>-122.22</td>\n",
              "    </tr>\n",
              "    <tr>\n",
              "      <th>2</th>\n",
              "      <td>7.2574</td>\n",
              "      <td>52.0</td>\n",
              "      <td>8.288136</td>\n",
              "      <td>1.073446</td>\n",
              "      <td>496.0</td>\n",
              "      <td>2.802260</td>\n",
              "      <td>37.85</td>\n",
              "      <td>-122.24</td>\n",
              "    </tr>\n",
              "    <tr>\n",
              "      <th>3</th>\n",
              "      <td>5.6431</td>\n",
              "      <td>52.0</td>\n",
              "      <td>5.817352</td>\n",
              "      <td>1.073059</td>\n",
              "      <td>558.0</td>\n",
              "      <td>2.547945</td>\n",
              "      <td>37.85</td>\n",
              "      <td>-122.25</td>\n",
              "    </tr>\n",
              "    <tr>\n",
              "      <th>4</th>\n",
              "      <td>3.8462</td>\n",
              "      <td>52.0</td>\n",
              "      <td>6.281853</td>\n",
              "      <td>1.081081</td>\n",
              "      <td>565.0</td>\n",
              "      <td>2.181467</td>\n",
              "      <td>37.85</td>\n",
              "      <td>-122.25</td>\n",
              "    </tr>\n",
              "    <tr>\n",
              "      <th>...</th>\n",
              "      <td>...</td>\n",
              "      <td>...</td>\n",
              "      <td>...</td>\n",
              "      <td>...</td>\n",
              "      <td>...</td>\n",
              "      <td>...</td>\n",
              "      <td>...</td>\n",
              "      <td>...</td>\n",
              "    </tr>\n",
              "    <tr>\n",
              "      <th>20635</th>\n",
              "      <td>1.5603</td>\n",
              "      <td>25.0</td>\n",
              "      <td>5.045455</td>\n",
              "      <td>1.133333</td>\n",
              "      <td>845.0</td>\n",
              "      <td>2.560606</td>\n",
              "      <td>39.48</td>\n",
              "      <td>-121.09</td>\n",
              "    </tr>\n",
              "    <tr>\n",
              "      <th>20636</th>\n",
              "      <td>2.5568</td>\n",
              "      <td>18.0</td>\n",
              "      <td>6.114035</td>\n",
              "      <td>1.315789</td>\n",
              "      <td>356.0</td>\n",
              "      <td>3.122807</td>\n",
              "      <td>39.49</td>\n",
              "      <td>-121.21</td>\n",
              "    </tr>\n",
              "    <tr>\n",
              "      <th>20637</th>\n",
              "      <td>1.7000</td>\n",
              "      <td>17.0</td>\n",
              "      <td>5.205543</td>\n",
              "      <td>1.120092</td>\n",
              "      <td>1007.0</td>\n",
              "      <td>2.325635</td>\n",
              "      <td>39.43</td>\n",
              "      <td>-121.22</td>\n",
              "    </tr>\n",
              "    <tr>\n",
              "      <th>20638</th>\n",
              "      <td>1.8672</td>\n",
              "      <td>18.0</td>\n",
              "      <td>5.329513</td>\n",
              "      <td>1.171920</td>\n",
              "      <td>741.0</td>\n",
              "      <td>2.123209</td>\n",
              "      <td>39.43</td>\n",
              "      <td>-121.32</td>\n",
              "    </tr>\n",
              "    <tr>\n",
              "      <th>20639</th>\n",
              "      <td>2.3886</td>\n",
              "      <td>16.0</td>\n",
              "      <td>5.254717</td>\n",
              "      <td>1.162264</td>\n",
              "      <td>1387.0</td>\n",
              "      <td>2.616981</td>\n",
              "      <td>39.37</td>\n",
              "      <td>-121.24</td>\n",
              "    </tr>\n",
              "  </tbody>\n",
              "</table>\n",
              "<p>20640 rows × 8 columns</p>\n",
              "</div>"
            ],
            "text/plain": [
              "       MedInc  HouseAge  AveRooms  AveBedrms  Population  AveOccup  Latitude  \\\n",
              "0      8.3252      41.0  6.984127   1.023810       322.0  2.555556     37.88   \n",
              "1      8.3014      21.0  6.238137   0.971880      2401.0  2.109842     37.86   \n",
              "2      7.2574      52.0  8.288136   1.073446       496.0  2.802260     37.85   \n",
              "3      5.6431      52.0  5.817352   1.073059       558.0  2.547945     37.85   \n",
              "4      3.8462      52.0  6.281853   1.081081       565.0  2.181467     37.85   \n",
              "...       ...       ...       ...        ...         ...       ...       ...   \n",
              "20635  1.5603      25.0  5.045455   1.133333       845.0  2.560606     39.48   \n",
              "20636  2.5568      18.0  6.114035   1.315789       356.0  3.122807     39.49   \n",
              "20637  1.7000      17.0  5.205543   1.120092      1007.0  2.325635     39.43   \n",
              "20638  1.8672      18.0  5.329513   1.171920       741.0  2.123209     39.43   \n",
              "20639  2.3886      16.0  5.254717   1.162264      1387.0  2.616981     39.37   \n",
              "\n",
              "       Longitude  \n",
              "0        -122.23  \n",
              "1        -122.22  \n",
              "2        -122.24  \n",
              "3        -122.25  \n",
              "4        -122.25  \n",
              "...          ...  \n",
              "20635    -121.09  \n",
              "20636    -121.21  \n",
              "20637    -121.22  \n",
              "20638    -121.32  \n",
              "20639    -121.24  \n",
              "\n",
              "[20640 rows x 8 columns]"
            ]
          },
          "execution_count": 2,
          "metadata": {},
          "output_type": "execute_result"
        }
      ],
      "execution_count": 2
    },
    {
      "cell_type": "markdown",
      "source": "* We will split them into training and control data.",
      "metadata": {
        "slideshow": {
          "slide_type": "slide"
        }
      }
    },
    {
      "cell_type": "code",
      "source": "from sklearn.model_selection import train_test_split\n\nX_train, X_test, y_train, y_test = train_test_split(california.data, \n                                                    california.target, \n                                                    test_size=0.20,\n                                                    random_state=13)",
      "metadata": {
        "slideshow": {
          "slide_type": "fragment"
        }
      },
      "outputs": [],
      "execution_count": 3
    },
    {
      "cell_type": "markdown",
      "source": "* Remember that we need to normalize the data.\n\n* For this purpose in TensorFlow we can use the special `Normalization' layer.\n\n* We use this by using the `adapt()` method on the training data.\n\n* Then it will read the data and calculate the mean, variance, and number of data, for each column.",
      "metadata": {
        "slideshow": {
          "slide_type": "slide"
        }
      }
    },
    {
      "cell_type": "code",
      "source": "normalizer = layers.Normalization()\nnormalizer.adapt(np.array(X_train))\nwith np.printoptions(precision=2):\n    print(normalizer.mean.numpy())\n    print(normalizer.variance.numpy())\n    print(normalizer.count.numpy())",
      "metadata": {
        "slideshow": {
          "slide_type": "fragment"
        }
      },
      "outputs": [
        {
          "name": "stderr",
          "output_type": "stream",
          "text": [
            "2022-03-02 16:43:14.892378: I tensorflow/core/platform/cpu_feature_guard.cc:151] This TensorFlow binary is optimized with oneAPI Deep Neural Network Library (oneDNN) to use the following CPU instructions in performance-critical operations:  AVX2 FMA\n",
            "To enable them in other operations, rebuild TensorFlow with the appropriate compiler flags.\n"
          ]
        },
        {
          "name": "stdout",
          "output_type": "stream",
          "text": [
            "[[ 3.86e+00  2.87e+01  5.43e+00  1.10e+00  1.43e+03  3.10e+00  3.57e+01\n",
            "  -1.20e+02]]\n",
            "[[3.58e+00 1.58e+02 6.53e+00 2.43e-01 1.33e+06 1.34e+02 4.60e+00 4.04e+00]]\n",
            "16512\n"
          ]
        }
      ],
      "execution_count": 4
    },
    {
      "cell_type": "markdown",
      "source": "* We start with a model with 32 neurons in a hidden layer and one neuron in the output layer.\n\n* We don't give an activation function to the output layer since we want to predict the house price, so get the output of the neuron without forcing it to be in some value limits.\n\n* The loss will be measured based on the Average Absolute Error.",
      "metadata": {
        "slideshow": {
          "slide_type": "slide"
        }
      }
    },
    {
      "cell_type": "code",
      "source": "model = keras.Sequential([\n        normalizer,\n        layers.Dense(32, activation='relu'),\n        layers.Dense(1)\n    ])\n\nmodel.compile(loss='mean_absolute_error',\n              optimizer=tf.keras.optimizers.Adam(0.001))",
      "metadata": {
        "slideshow": {
          "slide_type": "fragment"
        }
      },
      "outputs": [],
      "execution_count": 5
    },
    {
      "cell_type": "markdown",
      "source": "* Let's see it briefly.\n\n* Notice that we have parameters that are not trained: they are the means, the variances, and the number of elements that the `Normalization` layer has already found.",
      "metadata": {
        "slideshow": {
          "slide_type": "slide"
        }
      }
    },
    {
      "cell_type": "code",
      "source": "model.summary()",
      "metadata": {
        "slideshow": {
          "slide_type": "fragment"
        }
      },
      "outputs": [
        {
          "name": "stdout",
          "output_type": "stream",
          "text": [
            "Model: \"sequential\"\n",
            "_________________________________________________________________\n",
            " Layer (type)                Output Shape              Param #   \n",
            "=================================================================\n",
            " normalization (Normalizatio  (None, 8)                17        \n",
            " n)                                                              \n",
            "                                                                 \n",
            " dense (Dense)               (None, 32)                288       \n",
            "                                                                 \n",
            " dense_1 (Dense)             (None, 1)                 33        \n",
            "                                                                 \n",
            "=================================================================\n",
            "Total params: 338\n",
            "Trainable params: 321\n",
            "Non-trainable params: 17\n",
            "_________________________________________________________________\n"
          ]
        }
      ],
      "execution_count": 6
    },
    {
      "cell_type": "markdown",
      "source": "* We will train our model for 100 epochs.\n\n* In each epoch the last 20% of data will be used for validation.\n\n* We will save the training course in a `history` variable.",
      "metadata": {
        "slideshow": {
          "slide_type": "slide"
        }
      }
    },
    {
      "cell_type": "code",
      "source": "num_epochs = 100\n\nhistory = model.fit(\n    X_train, \n    y_train,\n    epochs=num_epochs, \n    validation_split=0.2,\n    verbose=1)",
      "metadata": {
        "slideshow": {
          "slide_type": "fragment"
        }
      },
      "outputs": [
        {
          "name": "stdout",
          "output_type": "stream",
          "text": [
            "Epoch 1/100\n",
            "413/413 [==============================] - 1s 953us/step - loss: 0.8047 - val_loss: 0.5796\n",
            "Epoch 2/100\n",
            "413/413 [==============================] - 0s 742us/step - loss: 0.5087 - val_loss: 0.4928\n",
            "Epoch 3/100\n",
            "413/413 [==============================] - 0s 754us/step - loss: 0.4637 - val_loss: 0.4640\n",
            "Epoch 4/100\n",
            "413/413 [==============================] - 0s 803us/step - loss: 0.4462 - val_loss: 0.4573\n",
            "Epoch 5/100\n",
            "413/413 [==============================] - 0s 804us/step - loss: 0.4370 - val_loss: 0.4532\n",
            "Epoch 6/100\n",
            "413/413 [==============================] - 0s 781us/step - loss: 0.4323 - val_loss: 0.4418\n",
            "Epoch 7/100\n",
            "413/413 [==============================] - 0s 737us/step - loss: 0.4275 - val_loss: 0.4401\n",
            "Epoch 8/100\n",
            "413/413 [==============================] - 0s 763us/step - loss: 0.4243 - val_loss: 0.4356\n",
            "Epoch 9/100\n",
            "413/413 [==============================] - 0s 731us/step - loss: 0.4203 - val_loss: 0.4366\n",
            "Epoch 10/100\n",
            "413/413 [==============================] - 0s 747us/step - loss: 0.4175 - val_loss: 0.4331\n",
            "Epoch 11/100\n",
            "413/413 [==============================] - 0s 764us/step - loss: 0.4153 - val_loss: 0.4301\n",
            "Epoch 12/100\n",
            "413/413 [==============================] - 0s 750us/step - loss: 0.4125 - val_loss: 0.4274\n",
            "Epoch 13/100\n",
            "413/413 [==============================] - 0s 757us/step - loss: 0.4105 - val_loss: 0.4272\n",
            "Epoch 14/100\n",
            "413/413 [==============================] - 0s 739us/step - loss: 0.4087 - val_loss: 0.4334\n",
            "Epoch 15/100\n",
            "413/413 [==============================] - 0s 733us/step - loss: 0.4065 - val_loss: 0.4292\n",
            "Epoch 16/100\n",
            "413/413 [==============================] - 0s 752us/step - loss: 0.4045 - val_loss: 0.4215\n",
            "Epoch 17/100\n",
            "413/413 [==============================] - 0s 757us/step - loss: 0.4032 - val_loss: 0.4173\n",
            "Epoch 18/100\n",
            "413/413 [==============================] - 0s 759us/step - loss: 0.4020 - val_loss: 0.4197\n",
            "Epoch 19/100\n",
            "413/413 [==============================] - 0s 728us/step - loss: 0.4006 - val_loss: 0.4182\n",
            "Epoch 20/100\n",
            "413/413 [==============================] - 0s 737us/step - loss: 0.3998 - val_loss: 0.4138\n",
            "Epoch 21/100\n",
            "413/413 [==============================] - 0s 756us/step - loss: 0.3979 - val_loss: 0.4155\n",
            "Epoch 22/100\n",
            "413/413 [==============================] - 0s 738us/step - loss: 0.3970 - val_loss: 0.4172\n",
            "Epoch 23/100\n",
            "413/413 [==============================] - 0s 739us/step - loss: 0.3950 - val_loss: 0.4178\n",
            "Epoch 24/100\n",
            "413/413 [==============================] - 0s 758us/step - loss: 0.3949 - val_loss: 0.4106\n",
            "Epoch 25/100\n",
            "413/413 [==============================] - 0s 727us/step - loss: 0.3935 - val_loss: 0.4092\n",
            "Epoch 26/100\n",
            "413/413 [==============================] - 0s 767us/step - loss: 0.3918 - val_loss: 0.4058\n",
            "Epoch 27/100\n",
            "413/413 [==============================] - 0s 723us/step - loss: 0.3905 - val_loss: 0.4065\n",
            "Epoch 28/100\n",
            "413/413 [==============================] - 0s 769us/step - loss: 0.3894 - val_loss: 0.4077\n",
            "Epoch 29/100\n",
            "413/413 [==============================] - 0s 736us/step - loss: 0.3882 - val_loss: 0.4055\n",
            "Epoch 30/100\n",
            "413/413 [==============================] - 0s 751us/step - loss: 0.3873 - val_loss: 0.4058\n",
            "Epoch 31/100\n",
            "413/413 [==============================] - 0s 736us/step - loss: 0.3862 - val_loss: 0.4043\n",
            "Epoch 32/100\n",
            "413/413 [==============================] - 0s 715us/step - loss: 0.3850 - val_loss: 0.4068\n",
            "Epoch 33/100\n",
            "413/413 [==============================] - 0s 740us/step - loss: 0.3845 - val_loss: 0.4040\n",
            "Epoch 34/100\n",
            "413/413 [==============================] - 0s 757us/step - loss: 0.3837 - val_loss: 0.4011\n",
            "Epoch 35/100\n",
            "413/413 [==============================] - 0s 738us/step - loss: 0.3833 - val_loss: 0.4035\n",
            "Epoch 36/100\n",
            "413/413 [==============================] - 0s 724us/step - loss: 0.3828 - val_loss: 0.4034\n",
            "Epoch 37/100\n",
            "413/413 [==============================] - 0s 765us/step - loss: 0.3815 - val_loss: 0.4015\n",
            "Epoch 38/100\n",
            "413/413 [==============================] - 0s 768us/step - loss: 0.3804 - val_loss: 0.3966\n",
            "Epoch 39/100\n",
            "413/413 [==============================] - 0s 761us/step - loss: 0.3813 - val_loss: 0.3989\n",
            "Epoch 40/100\n",
            "413/413 [==============================] - 0s 745us/step - loss: 0.3802 - val_loss: 0.3977\n",
            "Epoch 41/100\n",
            "413/413 [==============================] - 0s 763us/step - loss: 0.3792 - val_loss: 0.4018\n",
            "Epoch 42/100\n",
            "413/413 [==============================] - 0s 751us/step - loss: 0.3789 - val_loss: 0.3962\n",
            "Epoch 43/100\n",
            "413/413 [==============================] - 0s 745us/step - loss: 0.3776 - val_loss: 0.3963\n",
            "Epoch 44/100\n",
            "413/413 [==============================] - 0s 759us/step - loss: 0.3778 - val_loss: 0.3965\n",
            "Epoch 45/100\n",
            "413/413 [==============================] - 0s 764us/step - loss: 0.3778 - val_loss: 0.3927\n",
            "Epoch 46/100\n",
            "413/413 [==============================] - 0s 760us/step - loss: 0.3757 - val_loss: 0.3996\n",
            "Epoch 47/100\n",
            "413/413 [==============================] - 0s 772us/step - loss: 0.3766 - val_loss: 0.3942\n",
            "Epoch 48/100\n",
            "413/413 [==============================] - 0s 738us/step - loss: 0.3752 - val_loss: 0.3978\n",
            "Epoch 49/100\n",
            "413/413 [==============================] - 0s 757us/step - loss: 0.3755 - val_loss: 0.3947\n",
            "Epoch 50/100\n",
            "413/413 [==============================] - 0s 765us/step - loss: 0.3750 - val_loss: 0.3927\n",
            "Epoch 51/100\n",
            "413/413 [==============================] - 0s 749us/step - loss: 0.3744 - val_loss: 0.3930\n",
            "Epoch 52/100\n",
            "413/413 [==============================] - 0s 781us/step - loss: 0.3754 - val_loss: 0.3900\n",
            "Epoch 53/100\n",
            "413/413 [==============================] - 0s 877us/step - loss: 0.3746 - val_loss: 0.3912\n",
            "Epoch 54/100\n",
            "413/413 [==============================] - 0s 1ms/step - loss: 0.3739 - val_loss: 0.3915\n",
            "Epoch 55/100\n",
            "413/413 [==============================] - 0s 862us/step - loss: 0.3726 - val_loss: 0.3938\n",
            "Epoch 56/100\n",
            "413/413 [==============================] - 0s 758us/step - loss: 0.3728 - val_loss: 0.3939\n",
            "Epoch 57/100\n",
            "413/413 [==============================] - 0s 766us/step - loss: 0.3722 - val_loss: 0.3893\n",
            "Epoch 58/100\n",
            "413/413 [==============================] - 0s 887us/step - loss: 0.3720 - val_loss: 0.3897\n",
            "Epoch 59/100\n",
            "413/413 [==============================] - 0s 912us/step - loss: 0.3714 - val_loss: 0.3889\n",
            "Epoch 60/100\n",
            "413/413 [==============================] - 0s 830us/step - loss: 0.3709 - val_loss: 0.3902\n",
            "Epoch 61/100\n",
            "413/413 [==============================] - 0s 959us/step - loss: 0.3708 - val_loss: 0.3902\n",
            "Epoch 62/100\n",
            "413/413 [==============================] - 0s 769us/step - loss: 0.3708 - val_loss: 0.3918\n",
            "Epoch 63/100\n",
            "413/413 [==============================] - 0s 769us/step - loss: 0.3707 - val_loss: 0.3905\n",
            "Epoch 64/100\n",
            "413/413 [==============================] - 0s 733us/step - loss: 0.3702 - val_loss: 0.3890\n",
            "Epoch 65/100\n",
            "413/413 [==============================] - 0s 757us/step - loss: 0.3693 - val_loss: 0.3886\n",
            "Epoch 66/100\n",
            "413/413 [==============================] - 0s 743us/step - loss: 0.3691 - val_loss: 0.3851\n",
            "Epoch 67/100\n",
            "413/413 [==============================] - 0s 738us/step - loss: 0.3691 - val_loss: 0.3883\n",
            "Epoch 68/100\n",
            "413/413 [==============================] - 0s 731us/step - loss: 0.3688 - val_loss: 0.3854\n",
            "Epoch 69/100\n",
            "413/413 [==============================] - 0s 722us/step - loss: 0.3687 - val_loss: 0.3858\n",
            "Epoch 70/100\n",
            "413/413 [==============================] - 0s 714us/step - loss: 0.3679 - val_loss: 0.3859\n",
            "Epoch 71/100\n",
            "413/413 [==============================] - 0s 718us/step - loss: 0.3680 - val_loss: 0.3837\n",
            "Epoch 72/100\n",
            "413/413 [==============================] - 0s 720us/step - loss: 0.3680 - val_loss: 0.3895\n",
            "Epoch 73/100\n",
            "413/413 [==============================] - 0s 729us/step - loss: 0.3675 - val_loss: 0.3860\n",
            "Epoch 74/100\n",
            "413/413 [==============================] - 0s 711us/step - loss: 0.3676 - val_loss: 0.3865\n",
            "Epoch 75/100\n",
            "413/413 [==============================] - 0s 701us/step - loss: 0.3682 - val_loss: 0.3856\n",
            "Epoch 76/100\n",
            "413/413 [==============================] - 0s 733us/step - loss: 0.3675 - val_loss: 0.3850\n",
            "Epoch 77/100\n",
            "413/413 [==============================] - 0s 721us/step - loss: 0.3668 - val_loss: 0.3861\n",
            "Epoch 78/100\n",
            "413/413 [==============================] - 0s 739us/step - loss: 0.3665 - val_loss: 0.3896\n",
            "Epoch 79/100\n",
            "413/413 [==============================] - 0s 732us/step - loss: 0.3665 - val_loss: 0.3848\n"
          ]
        },
        {
          "name": "stdout",
          "output_type": "stream",
          "text": [
            "Epoch 80/100\n",
            "413/413 [==============================] - 0s 716us/step - loss: 0.3662 - val_loss: 0.3838\n",
            "Epoch 81/100\n",
            "413/413 [==============================] - 0s 714us/step - loss: 0.3661 - val_loss: 0.3874\n",
            "Epoch 82/100\n",
            "413/413 [==============================] - 0s 760us/step - loss: 0.3661 - val_loss: 0.3872\n",
            "Epoch 83/100\n",
            "413/413 [==============================] - 0s 718us/step - loss: 0.3667 - val_loss: 0.3912\n",
            "Epoch 84/100\n",
            "413/413 [==============================] - 0s 713us/step - loss: 0.3663 - val_loss: 0.3886\n",
            "Epoch 85/100\n",
            "413/413 [==============================] - 0s 736us/step - loss: 0.3665 - val_loss: 0.3818\n",
            "Epoch 86/100\n",
            "413/413 [==============================] - 0s 742us/step - loss: 0.3667 - val_loss: 0.3835\n",
            "Epoch 87/100\n",
            "413/413 [==============================] - 0s 711us/step - loss: 0.3653 - val_loss: 0.3844\n",
            "Epoch 88/100\n",
            "413/413 [==============================] - 0s 707us/step - loss: 0.3650 - val_loss: 0.3840\n",
            "Epoch 89/100\n",
            "413/413 [==============================] - 0s 723us/step - loss: 0.3647 - val_loss: 0.3881\n",
            "Epoch 90/100\n",
            "413/413 [==============================] - 0s 723us/step - loss: 0.3646 - val_loss: 0.3817\n",
            "Epoch 91/100\n",
            "413/413 [==============================] - 0s 712us/step - loss: 0.3643 - val_loss: 0.3866\n",
            "Epoch 92/100\n",
            "413/413 [==============================] - 0s 720us/step - loss: 0.3650 - val_loss: 0.3825\n",
            "Epoch 93/100\n",
            "413/413 [==============================] - 0s 712us/step - loss: 0.3644 - val_loss: 0.3835\n",
            "Epoch 94/100\n",
            "413/413 [==============================] - 0s 755us/step - loss: 0.3642 - val_loss: 0.3851\n",
            "Epoch 95/100\n",
            "413/413 [==============================] - 0s 758us/step - loss: 0.3646 - val_loss: 0.3812\n",
            "Epoch 96/100\n",
            "413/413 [==============================] - 0s 753us/step - loss: 0.3643 - val_loss: 0.3798\n",
            "Epoch 97/100\n",
            "413/413 [==============================] - 0s 762us/step - loss: 0.3638 - val_loss: 0.3858\n",
            "Epoch 98/100\n",
            "413/413 [==============================] - 0s 757us/step - loss: 0.3636 - val_loss: 0.3829\n",
            "Epoch 99/100\n",
            "413/413 [==============================] - 0s 754us/step - loss: 0.3634 - val_loss: 0.3815\n",
            "Epoch 100/100\n",
            "413/413 [==============================] - 0s 756us/step - loss: 0.3638 - val_loss: 0.3813\n"
          ]
        }
      ],
      "execution_count": 7
    },
    {
      "cell_type": "markdown",
      "source": "* Our training path shows the progress in training loss and validation loss, in each epoch.",
      "metadata": {
        "slideshow": {
          "slide_type": "slide"
        }
      }
    },
    {
      "cell_type": "code",
      "source": "hist = pd.DataFrame(history.history)\nhist['epoch'] = history.epoch\nhist",
      "metadata": {
        "slideshow": {
          "slide_type": "fragment"
        }
      },
      "outputs": [
        {
          "data": {
            "text/html": [
              "<div>\n",
              "<style scoped>\n",
              "    .dataframe tbody tr th:only-of-type {\n",
              "        vertical-align: middle;\n",
              "    }\n",
              "\n",
              "    .dataframe tbody tr th {\n",
              "        vertical-align: top;\n",
              "    }\n",
              "\n",
              "    .dataframe thead th {\n",
              "        text-align: right;\n",
              "    }\n",
              "</style>\n",
              "<table border=\"1\" class=\"dataframe\">\n",
              "  <thead>\n",
              "    <tr style=\"text-align: right;\">\n",
              "      <th></th>\n",
              "      <th>loss</th>\n",
              "      <th>val_loss</th>\n",
              "      <th>epoch</th>\n",
              "    </tr>\n",
              "  </thead>\n",
              "  <tbody>\n",
              "    <tr>\n",
              "      <th>0</th>\n",
              "      <td>0.804669</td>\n",
              "      <td>0.579563</td>\n",
              "      <td>0</td>\n",
              "    </tr>\n",
              "    <tr>\n",
              "      <th>1</th>\n",
              "      <td>0.508653</td>\n",
              "      <td>0.492838</td>\n",
              "      <td>1</td>\n",
              "    </tr>\n",
              "    <tr>\n",
              "      <th>2</th>\n",
              "      <td>0.463731</td>\n",
              "      <td>0.463953</td>\n",
              "      <td>2</td>\n",
              "    </tr>\n",
              "    <tr>\n",
              "      <th>3</th>\n",
              "      <td>0.446166</td>\n",
              "      <td>0.457256</td>\n",
              "      <td>3</td>\n",
              "    </tr>\n",
              "    <tr>\n",
              "      <th>4</th>\n",
              "      <td>0.436963</td>\n",
              "      <td>0.453202</td>\n",
              "      <td>4</td>\n",
              "    </tr>\n",
              "    <tr>\n",
              "      <th>...</th>\n",
              "      <td>...</td>\n",
              "      <td>...</td>\n",
              "      <td>...</td>\n",
              "    </tr>\n",
              "    <tr>\n",
              "      <th>95</th>\n",
              "      <td>0.364285</td>\n",
              "      <td>0.379836</td>\n",
              "      <td>95</td>\n",
              "    </tr>\n",
              "    <tr>\n",
              "      <th>96</th>\n",
              "      <td>0.363797</td>\n",
              "      <td>0.385798</td>\n",
              "      <td>96</td>\n",
              "    </tr>\n",
              "    <tr>\n",
              "      <th>97</th>\n",
              "      <td>0.363622</td>\n",
              "      <td>0.382892</td>\n",
              "      <td>97</td>\n",
              "    </tr>\n",
              "    <tr>\n",
              "      <th>98</th>\n",
              "      <td>0.363429</td>\n",
              "      <td>0.381474</td>\n",
              "      <td>98</td>\n",
              "    </tr>\n",
              "    <tr>\n",
              "      <th>99</th>\n",
              "      <td>0.363833</td>\n",
              "      <td>0.381264</td>\n",
              "      <td>99</td>\n",
              "    </tr>\n",
              "  </tbody>\n",
              "</table>\n",
              "<p>100 rows × 3 columns</p>\n",
              "</div>"
            ],
            "text/plain": [
              "        loss  val_loss  epoch\n",
              "0   0.804669  0.579563      0\n",
              "1   0.508653  0.492838      1\n",
              "2   0.463731  0.463953      2\n",
              "3   0.446166  0.457256      3\n",
              "4   0.436963  0.453202      4\n",
              "..       ...       ...    ...\n",
              "95  0.364285  0.379836     95\n",
              "96  0.363797  0.385798     96\n",
              "97  0.363622  0.382892     97\n",
              "98  0.363429  0.381474     98\n",
              "99  0.363833  0.381264     99\n",
              "\n",
              "[100 rows x 3 columns]"
            ]
          },
          "execution_count": 8,
          "metadata": {},
          "output_type": "execute_result"
        }
      ],
      "execution_count": 8
    },
    {
      "cell_type": "markdown",
      "source": "* We can see the progress if we make a helper function for the visualization.",
      "metadata": {
        "slideshow": {
          "slide_type": "slide"
        }
      }
    },
    {
      "cell_type": "code",
      "source": "def plot_loss(history):\n    plt.plot(history.history['loss'], label='loss')\n    plt.plot(history.history['val_loss'], label='val_loss')\n    plt.xlabel('Epoch')\n    plt.ylabel('Error')\n    plt.legend()\n    plt.grid(True)",
      "metadata": {
        "slideshow": {
          "slide_type": "fragment"
        }
      },
      "outputs": [],
      "execution_count": 9
    },
    {
      "cell_type": "code",
      "source": "plot_loss(history)",
      "metadata": {
        "slideshow": {
          "slide_type": "slide"
        }
      },
      "outputs": [
        {
          "data": {
            "image/png": "[encoded data removed]",
            "text/plain": [
              "<Figure size 432x288 with 1 Axes>"
            ]
          },
          "metadata": {
            "needs_background": "light"
          },
          "output_type": "display_data"
        }
      ],
      "execution_count": 10
    },
    {
      "cell_type": "markdown",
      "source": "* We see that the validation loss deviates from the training loss.\n\n* This may be an example of overfitting.",
      "metadata": {
        "slideshow": {
          "slide_type": "slide"
        }
      }
    },
    {
      "cell_type": "markdown",
      "source": "* We evaluate our model against control data.",
      "metadata": {
        "slideshow": {
          "slide_type": "slide"
        }
      }
    },
    {
      "cell_type": "code",
      "source": "model.evaluate(X_test, y_test, verbose=0)",
      "metadata": {
        "slideshow": {
          "slide_type": "fragment"
        }
      },
      "outputs": [
        {
          "data": {
            "text/plain": [
              "0.38195157051086426"
            ]
          },
          "execution_count": 11,
          "metadata": {},
          "output_type": "execute_result"
        }
      ],
      "execution_count": 11
    },
    {
      "cell_type": "markdown",
      "source": "* Let's see if we do better with a bigger network.",
      "metadata": {
        "slideshow": {
          "slide_type": "slide"
        }
      }
    },
    {
      "cell_type": "code",
      "source": "model = keras.Sequential([\n        normalizer,\n        layers.Dense(64, activation='relu'),\n        layers.Dense(32, activation='relu'),\n        layers.Dense(1)\n    ])\n\nmodel.compile(loss='mean_absolute_error',\n              optimizer=tf.keras.optimizers.Adam(0.001))",
      "metadata": {
        "slideshow": {
          "slide_type": "fragment"
        }
      },
      "outputs": [],
      "execution_count": 12
    },
    {
      "cell_type": "markdown",
      "source": "* In summary:",
      "metadata": {
        "slideshow": {
          "slide_type": "slide"
        }
      }
    },
    {
      "cell_type": "code",
      "source": "model.summary()",
      "metadata": {
        "slideshow": {
          "slide_type": "fragment"
        }
      },
      "outputs": [
        {
          "name": "stdout",
          "output_type": "stream",
          "text": [
            "Model: \"sequential_1\"\n",
            "_________________________________________________________________\n",
            " Layer (type)                Output Shape              Param #   \n",
            "=================================================================\n",
            " normalization (Normalizatio  (None, 8)                17        \n",
            " n)                                                              \n",
            "                                                                 \n",
            " dense_2 (Dense)             (None, 64)                576       \n",
            "                                                                 \n",
            " dense_3 (Dense)             (None, 32)                2080      \n",
            "                                                                 \n",
            " dense_4 (Dense)             (None, 1)                 33        \n",
            "                                                                 \n",
            "=================================================================\n",
            "Total params: 2,706\n",
            "Trainable params: 2,689\n",
            "Non-trainable params: 17\n",
            "_________________________________________________________________\n"
          ]
        }
      ],
      "execution_count": 13
    },
    {
      "cell_type": "markdown",
      "source": "* We train:",
      "metadata": {
        "slideshow": {
          "slide_type": "slide"
        }
      }
    },
    {
      "cell_type": "code",
      "source": "history = model.fit(\n    X_train, \n    y_train,\n    epochs=num_epochs, \n    validation_split=0.2,\n    verbose=1)",
      "metadata": {
        "slideshow": {
          "slide_type": "fragment"
        }
      },
      "outputs": [
        {
          "name": "stdout",
          "output_type": "stream",
          "text": [
            "Epoch 1/100\n",
            "413/413 [==============================] - 1s 1ms/step - loss: 0.6449 - val_loss: 0.4896\n",
            "Epoch 2/100\n",
            "413/413 [==============================] - 0s 991us/step - loss: 0.4441 - val_loss: 0.4435\n",
            "Epoch 3/100\n",
            "413/413 [==============================] - 0s 1ms/step - loss: 0.4193 - val_loss: 0.4303\n",
            "Epoch 4/100\n",
            "413/413 [==============================] - 0s 1ms/step - loss: 0.4076 - val_loss: 0.4201\n",
            "Epoch 5/100\n",
            "413/413 [==============================] - 0s 1ms/step - loss: 0.3938 - val_loss: 0.4078\n",
            "Epoch 6/100\n",
            "413/413 [==============================] - 0s 864us/step - loss: 0.3837 - val_loss: 0.3935\n",
            "Epoch 7/100\n",
            "413/413 [==============================] - 0s 942us/step - loss: 0.3773 - val_loss: 0.3977\n",
            "Epoch 8/100\n",
            "413/413 [==============================] - 0s 896us/step - loss: 0.3735 - val_loss: 0.3829\n",
            "Epoch 9/100\n",
            "413/413 [==============================] - 0s 854us/step - loss: 0.3676 - val_loss: 0.3803\n",
            "Epoch 10/100\n",
            "413/413 [==============================] - 0s 991us/step - loss: 0.3651 - val_loss: 0.3826\n",
            "Epoch 11/100\n",
            "413/413 [==============================] - 0s 909us/step - loss: 0.3603 - val_loss: 0.3872\n",
            "Epoch 12/100\n",
            "413/413 [==============================] - 0s 948us/step - loss: 0.3577 - val_loss: 0.3707\n",
            "Epoch 13/100\n",
            "413/413 [==============================] - 0s 890us/step - loss: 0.3547 - val_loss: 0.3755\n",
            "Epoch 14/100\n",
            "413/413 [==============================] - 0s 879us/step - loss: 0.3537 - val_loss: 0.3741\n",
            "Epoch 15/100\n",
            "413/413 [==============================] - 0s 856us/step - loss: 0.3515 - val_loss: 0.3731\n",
            "Epoch 16/100\n",
            "413/413 [==============================] - 0s 843us/step - loss: 0.3496 - val_loss: 0.3655\n",
            "Epoch 17/100\n",
            "413/413 [==============================] - 0s 867us/step - loss: 0.3490 - val_loss: 0.3646\n",
            "Epoch 18/100\n",
            "413/413 [==============================] - 0s 851us/step - loss: 0.3471 - val_loss: 0.3664\n",
            "Epoch 19/100\n",
            "413/413 [==============================] - 0s 854us/step - loss: 0.3461 - val_loss: 0.3614\n",
            "Epoch 20/100\n",
            "413/413 [==============================] - 0s 868us/step - loss: 0.3436 - val_loss: 0.3590\n",
            "Epoch 21/100\n",
            "413/413 [==============================] - 0s 840us/step - loss: 0.3438 - val_loss: 0.3582\n",
            "Epoch 22/100\n",
            "413/413 [==============================] - 0s 861us/step - loss: 0.3409 - val_loss: 0.3623\n",
            "Epoch 23/100\n",
            "413/413 [==============================] - 0s 843us/step - loss: 0.3402 - val_loss: 0.3657\n",
            "Epoch 24/100\n",
            "413/413 [==============================] - 0s 857us/step - loss: 0.3399 - val_loss: 0.3539\n",
            "Epoch 25/100\n",
            "413/413 [==============================] - 0s 933us/step - loss: 0.3391 - val_loss: 0.3550\n",
            "Epoch 26/100\n",
            "413/413 [==============================] - 0s 1ms/step - loss: 0.3363 - val_loss: 0.3574\n",
            "Epoch 27/100\n",
            "413/413 [==============================] - 0s 896us/step - loss: 0.3366 - val_loss: 0.3580\n",
            "Epoch 28/100\n",
            "413/413 [==============================] - 0s 979us/step - loss: 0.3355 - val_loss: 0.3526\n",
            "Epoch 29/100\n",
            "413/413 [==============================] - 0s 845us/step - loss: 0.3340 - val_loss: 0.3609\n",
            "Epoch 30/100\n",
            "413/413 [==============================] - 0s 859us/step - loss: 0.3334 - val_loss: 0.3593\n",
            "Epoch 31/100\n",
            "413/413 [==============================] - 0s 874us/step - loss: 0.3330 - val_loss: 0.3470\n",
            "Epoch 32/100\n",
            "413/413 [==============================] - 0s 845us/step - loss: 0.3312 - val_loss: 0.3492\n",
            "Epoch 33/100\n",
            "413/413 [==============================] - 0s 867us/step - loss: 0.3326 - val_loss: 0.3453\n",
            "Epoch 34/100\n",
            "413/413 [==============================] - 0s 851us/step - loss: 0.3326 - val_loss: 0.3461\n",
            "Epoch 35/100\n",
            "413/413 [==============================] - 0s 844us/step - loss: 0.3297 - val_loss: 0.3457\n",
            "Epoch 36/100\n",
            "413/413 [==============================] - 0s 842us/step - loss: 0.3289 - val_loss: 0.3557\n",
            "Epoch 37/100\n",
            "413/413 [==============================] - 0s 932us/step - loss: 0.3279 - val_loss: 0.3465\n",
            "Epoch 38/100\n",
            "413/413 [==============================] - 0s 931us/step - loss: 0.3276 - val_loss: 0.3501\n",
            "Epoch 39/100\n",
            "413/413 [==============================] - 0s 858us/step - loss: 0.3262 - val_loss: 0.3605\n",
            "Epoch 40/100\n",
            "413/413 [==============================] - 0s 886us/step - loss: 0.3251 - val_loss: 0.3451\n",
            "Epoch 41/100\n",
            "413/413 [==============================] - 0s 857us/step - loss: 0.3251 - val_loss: 0.3413\n",
            "Epoch 42/100\n",
            "413/413 [==============================] - 0s 873us/step - loss: 0.3250 - val_loss: 0.3434\n",
            "Epoch 43/100\n",
            "413/413 [==============================] - 0s 856us/step - loss: 0.3227 - val_loss: 0.3458\n",
            "Epoch 44/100\n",
            "413/413 [==============================] - 0s 836us/step - loss: 0.3214 - val_loss: 0.3490\n",
            "Epoch 45/100\n",
            "413/413 [==============================] - 0s 883us/step - loss: 0.3223 - val_loss: 0.3521\n",
            "Epoch 46/100\n",
            "413/413 [==============================] - 0s 887us/step - loss: 0.3223 - val_loss: 0.3460\n",
            "Epoch 47/100\n",
            "413/413 [==============================] - 0s 867us/step - loss: 0.3202 - val_loss: 0.3381\n",
            "Epoch 48/100\n",
            "413/413 [==============================] - 0s 849us/step - loss: 0.3214 - val_loss: 0.3391\n",
            "Epoch 49/100\n",
            "413/413 [==============================] - 0s 842us/step - loss: 0.3195 - val_loss: 0.3426\n",
            "Epoch 50/100\n",
            "413/413 [==============================] - 0s 854us/step - loss: 0.3200 - val_loss: 0.3461\n",
            "Epoch 51/100\n",
            "413/413 [==============================] - 0s 872us/step - loss: 0.3186 - val_loss: 0.3443\n",
            "Epoch 52/100\n",
            "413/413 [==============================] - 0s 844us/step - loss: 0.3203 - val_loss: 0.3403\n",
            "Epoch 53/100\n",
            "413/413 [==============================] - 0s 872us/step - loss: 0.3193 - val_loss: 0.3446\n",
            "Epoch 54/100\n",
            "413/413 [==============================] - 0s 860us/step - loss: 0.3175 - val_loss: 0.3445\n",
            "Epoch 55/100\n",
            "413/413 [==============================] - 0s 828us/step - loss: 0.3165 - val_loss: 0.3477\n",
            "Epoch 56/100\n",
            "413/413 [==============================] - 0s 868us/step - loss: 0.3179 - val_loss: 0.3387\n",
            "Epoch 57/100\n",
            "413/413 [==============================] - 0s 912us/step - loss: 0.3163 - val_loss: 0.3421\n",
            "Epoch 58/100\n",
            "413/413 [==============================] - 0s 864us/step - loss: 0.3169 - val_loss: 0.3466\n",
            "Epoch 59/100\n",
            "413/413 [==============================] - 0s 887us/step - loss: 0.3174 - val_loss: 0.3382\n",
            "Epoch 60/100\n",
            "413/413 [==============================] - 0s 850us/step - loss: 0.3162 - val_loss: 0.3499\n",
            "Epoch 61/100\n",
            "413/413 [==============================] - 0s 896us/step - loss: 0.3161 - val_loss: 0.3414\n",
            "Epoch 62/100\n",
            "413/413 [==============================] - 0s 830us/step - loss: 0.3152 - val_loss: 0.3449\n",
            "Epoch 63/100\n",
            "413/413 [==============================] - 0s 853us/step - loss: 0.3157 - val_loss: 0.3375\n",
            "Epoch 64/100\n",
            "413/413 [==============================] - 0s 828us/step - loss: 0.3148 - val_loss: 0.3433\n",
            "Epoch 65/100\n",
            "413/413 [==============================] - 0s 868us/step - loss: 0.3140 - val_loss: 0.3396\n",
            "Epoch 66/100\n",
            "413/413 [==============================] - 0s 857us/step - loss: 0.3126 - val_loss: 0.3438\n",
            "Epoch 67/100\n",
            "413/413 [==============================] - 0s 851us/step - loss: 0.3148 - val_loss: 0.3369\n",
            "Epoch 68/100\n",
            "413/413 [==============================] - 0s 868us/step - loss: 0.3135 - val_loss: 0.3340\n",
            "Epoch 69/100\n",
            "413/413 [==============================] - 0s 904us/step - loss: 0.3124 - val_loss: 0.3371\n",
            "Epoch 70/100\n",
            "413/413 [==============================] - 0s 866us/step - loss: 0.3123 - val_loss: 0.3408\n",
            "Epoch 71/100\n",
            "413/413 [==============================] - 0s 827us/step - loss: 0.3143 - val_loss: 0.3384\n",
            "Epoch 72/100\n",
            "413/413 [==============================] - 0s 876us/step - loss: 0.3124 - val_loss: 0.3366\n",
            "Epoch 73/100\n",
            "413/413 [==============================] - 0s 842us/step - loss: 0.3118 - val_loss: 0.3426\n",
            "Epoch 74/100\n",
            "413/413 [==============================] - 0s 864us/step - loss: 0.3116 - val_loss: 0.3370\n",
            "Epoch 75/100\n",
            "413/413 [==============================] - 0s 910us/step - loss: 0.3111 - val_loss: 0.3398\n",
            "Epoch 76/100\n",
            "413/413 [==============================] - 0s 921us/step - loss: 0.3114 - val_loss: 0.3490\n",
            "Epoch 77/100\n",
            "413/413 [==============================] - 0s 858us/step - loss: 0.3103 - val_loss: 0.3392\n",
            "Epoch 78/100\n",
            "413/413 [==============================] - 0s 876us/step - loss: 0.3119 - val_loss: 0.3350\n",
            "Epoch 79/100\n",
            "413/413 [==============================] - 0s 888us/step - loss: 0.3108 - val_loss: 0.3353\n"
          ]
        },
        {
          "name": "stdout",
          "output_type": "stream",
          "text": [
            "Epoch 80/100\n",
            "413/413 [==============================] - 0s 996us/step - loss: 0.3097 - val_loss: 0.3406\n",
            "Epoch 81/100\n",
            "413/413 [==============================] - 0s 904us/step - loss: 0.3116 - val_loss: 0.3434\n",
            "Epoch 82/100\n",
            "413/413 [==============================] - 0s 896us/step - loss: 0.3089 - val_loss: 0.3410\n",
            "Epoch 83/100\n",
            "413/413 [==============================] - 0s 879us/step - loss: 0.3100 - val_loss: 0.3358\n",
            "Epoch 84/100\n",
            "413/413 [==============================] - 0s 850us/step - loss: 0.3092 - val_loss: 0.3440\n",
            "Epoch 85/100\n",
            "413/413 [==============================] - 0s 850us/step - loss: 0.3094 - val_loss: 0.3382\n",
            "Epoch 86/100\n",
            "413/413 [==============================] - 0s 867us/step - loss: 0.3080 - val_loss: 0.3424\n",
            "Epoch 87/100\n",
            "413/413 [==============================] - 0s 879us/step - loss: 0.3089 - val_loss: 0.3364\n",
            "Epoch 88/100\n",
            "413/413 [==============================] - 0s 880us/step - loss: 0.3090 - val_loss: 0.3388\n",
            "Epoch 89/100\n",
            "413/413 [==============================] - 0s 852us/step - loss: 0.3084 - val_loss: 0.3400\n",
            "Epoch 90/100\n",
            "413/413 [==============================] - 0s 874us/step - loss: 0.3094 - val_loss: 0.3446\n",
            "Epoch 91/100\n",
            "413/413 [==============================] - 0s 891us/step - loss: 0.3085 - val_loss: 0.3364\n",
            "Epoch 92/100\n",
            "413/413 [==============================] - 0s 845us/step - loss: 0.3070 - val_loss: 0.3380\n",
            "Epoch 93/100\n",
            "413/413 [==============================] - 0s 853us/step - loss: 0.3059 - val_loss: 0.3393\n",
            "Epoch 94/100\n",
            "413/413 [==============================] - 0s 895us/step - loss: 0.3068 - val_loss: 0.3337\n",
            "Epoch 95/100\n",
            "413/413 [==============================] - 0s 837us/step - loss: 0.3076 - val_loss: 0.3402\n",
            "Epoch 96/100\n",
            "413/413 [==============================] - 0s 885us/step - loss: 0.3069 - val_loss: 0.3376\n",
            "Epoch 97/100\n",
            "413/413 [==============================] - 0s 914us/step - loss: 0.3075 - val_loss: 0.3380\n",
            "Epoch 98/100\n",
            "413/413 [==============================] - 0s 895us/step - loss: 0.3051 - val_loss: 0.3420\n",
            "Epoch 99/100\n",
            "413/413 [==============================] - 0s 881us/step - loss: 0.3046 - val_loss: 0.3352\n",
            "Epoch 100/100\n",
            "413/413 [==============================] - 0s 982us/step - loss: 0.3057 - val_loss: 0.3402\n"
          ]
        }
      ],
      "execution_count": 14
    },
    {
      "cell_type": "markdown",
      "source": "* His assessment:",
      "metadata": {
        "slideshow": {
          "slide_type": "slide"
        }
      }
    },
    {
      "cell_type": "code",
      "source": "model.evaluate(X_test, y_test, verbose=0)",
      "metadata": {
        "slideshow": {
          "slide_type": "fragment"
        }
      },
      "outputs": [
        {
          "data": {
            "text/plain": [
              "0.3384447693824768"
            ]
          },
          "execution_count": 16,
          "metadata": {},
          "output_type": "execute_result"
        }
      ],
      "execution_count": 16
    },
    {
      "cell_type": "markdown",
      "source": "* We did better, but the two losses started to diverge earlier.\n\n* Also, validation loss doesn't seem to improve significantly from one point on.",
      "metadata": {
        "slideshow": {
          "slide_type": "slide"
        }
      }
    },
    {
      "cell_type": "code",
      "source": "plot_loss(history)",
      "metadata": {},
      "outputs": [
        {
          "data": {
            "image/png": "[encoded data removed]",
            "text/plain": [
              "<Figure size 432x288 with 1 Axes>"
            ]
          },
          "metadata": {
            "needs_background": "light"
          },
          "output_type": "display_data"
        }
      ],
      "execution_count": 17
    },
    {
      "cell_type": "markdown",
      "source": "* We did better, but the two losses started to diverge earlier.\n\n* Also, validation loss doesn't seem to improve significantly from one point on.",
      "metadata": {
        "slideshow": {
          "slide_type": "slide"
        }
      }
    },
    {
      "cell_type": "code",
      "source": "early_stop = keras.callbacks.EarlyStopping(monitor='val_loss', patience=10)",
      "metadata": {
        "slideshow": {
          "slide_type": "fragment"
        }
      },
      "outputs": [],
      "execution_count": 18
    },
    {
      "cell_type": "markdown",
      "source": "* We rebuild our model.",
      "metadata": {
        "slideshow": {
          "slide_type": "slide"
        }
      }
    },
    {
      "cell_type": "code",
      "source": "model = keras.Sequential([\n        normalizer,\n        layers.Dense(64, activation='relu'),\n        layers.Dense(32, activation='relu'),\n        layers.Dense(1)\n    ])\n\nmodel.compile(loss='mean_absolute_error',\n              optimizer=tf.keras.optimizers.Adam(0.001))",
      "metadata": {
        "slideshow": {
          "slide_type": "fragment"
        }
      },
      "outputs": [],
      "execution_count": 19
    },
    {
      "cell_type": "markdown",
      "source": "* This time we give it the early termination rule via the `callbacks` parameter.",
      "metadata": {
        "slideshow": {
          "slide_type": "slide"
        }
      }
    },
    {
      "cell_type": "code",
      "source": "history = model.fit(\n    X_train, \n    y_train,\n    epochs=num_epochs, \n    validation_split=0.2,\n    verbose=1,\n    callbacks=[early_stop])",
      "metadata": {
        "slideshow": {
          "slide_type": "fragment"
        }
      },
      "outputs": [
        {
          "name": "stdout",
          "output_type": "stream",
          "text": [
            "Epoch 1/100\n",
            "413/413 [==============================] - 1s 2ms/step - loss: 0.5950 - val_loss: 0.4631\n",
            "Epoch 2/100\n",
            "413/413 [==============================] - 0s 1ms/step - loss: 0.4354 - val_loss: 0.4421\n",
            "Epoch 3/100\n",
            "413/413 [==============================] - 0s 1ms/step - loss: 0.4186 - val_loss: 0.4324\n",
            "Epoch 4/100\n",
            "413/413 [==============================] - 0s 1ms/step - loss: 0.4115 - val_loss: 0.4242\n",
            "Epoch 5/100\n",
            "413/413 [==============================] - 0s 951us/step - loss: 0.4023 - val_loss: 0.4149\n",
            "Epoch 6/100\n",
            "413/413 [==============================] - 0s 915us/step - loss: 0.3943 - val_loss: 0.4066\n",
            "Epoch 7/100\n",
            "413/413 [==============================] - 0s 907us/step - loss: 0.3884 - val_loss: 0.4101\n",
            "Epoch 8/100\n",
            "413/413 [==============================] - 0s 857us/step - loss: 0.3839 - val_loss: 0.3975\n",
            "Epoch 9/100\n",
            "413/413 [==============================] - 0s 859us/step - loss: 0.3796 - val_loss: 0.3927\n",
            "Epoch 10/100\n",
            "413/413 [==============================] - 0s 904us/step - loss: 0.3748 - val_loss: 0.3886\n",
            "Epoch 11/100\n",
            "413/413 [==============================] - 0s 858us/step - loss: 0.3719 - val_loss: 0.3918\n",
            "Epoch 12/100\n",
            "413/413 [==============================] - 0s 909us/step - loss: 0.3691 - val_loss: 0.3837\n",
            "Epoch 13/100\n",
            "413/413 [==============================] - 0s 867us/step - loss: 0.3668 - val_loss: 0.3873\n",
            "Epoch 14/100\n",
            "413/413 [==============================] - 0s 862us/step - loss: 0.3650 - val_loss: 0.3890\n",
            "Epoch 15/100\n",
            "413/413 [==============================] - 0s 855us/step - loss: 0.3629 - val_loss: 0.3905\n",
            "Epoch 16/100\n",
            "413/413 [==============================] - 0s 924us/step - loss: 0.3605 - val_loss: 0.3749\n",
            "Epoch 17/100\n",
            "413/413 [==============================] - 0s 875us/step - loss: 0.3567 - val_loss: 0.3706\n",
            "Epoch 18/100\n",
            "413/413 [==============================] - 0s 879us/step - loss: 0.3564 - val_loss: 0.3753\n",
            "Epoch 19/100\n",
            "413/413 [==============================] - 0s 867us/step - loss: 0.3552 - val_loss: 0.3684\n",
            "Epoch 20/100\n",
            "413/413 [==============================] - 0s 854us/step - loss: 0.3517 - val_loss: 0.3712\n",
            "Epoch 21/100\n",
            "413/413 [==============================] - 0s 931us/step - loss: 0.3524 - val_loss: 0.3669\n",
            "Epoch 22/100\n",
            "413/413 [==============================] - 0s 857us/step - loss: 0.3506 - val_loss: 0.3697\n",
            "Epoch 23/100\n",
            "413/413 [==============================] - 0s 893us/step - loss: 0.3494 - val_loss: 0.3780\n",
            "Epoch 24/100\n",
            "413/413 [==============================] - 0s 876us/step - loss: 0.3475 - val_loss: 0.3620\n",
            "Epoch 25/100\n",
            "413/413 [==============================] - 0s 935us/step - loss: 0.3460 - val_loss: 0.3696\n",
            "Epoch 26/100\n",
            "413/413 [==============================] - 0s 966us/step - loss: 0.3450 - val_loss: 0.3600\n",
            "Epoch 27/100\n",
            "413/413 [==============================] - 0s 922us/step - loss: 0.3437 - val_loss: 0.3647\n",
            "Epoch 28/100\n",
            "413/413 [==============================] - 0s 1ms/step - loss: 0.3425 - val_loss: 0.3593\n",
            "Epoch 29/100\n",
            "413/413 [==============================] - 0s 871us/step - loss: 0.3441 - val_loss: 0.3689\n",
            "Epoch 30/100\n",
            "413/413 [==============================] - 0s 1ms/step - loss: 0.3401 - val_loss: 0.3651\n",
            "Epoch 31/100\n",
            "413/413 [==============================] - 0s 879us/step - loss: 0.3385 - val_loss: 0.3586\n",
            "Epoch 32/100\n",
            "413/413 [==============================] - 0s 942us/step - loss: 0.3367 - val_loss: 0.3673\n",
            "Epoch 33/100\n",
            "413/413 [==============================] - 0s 912us/step - loss: 0.3372 - val_loss: 0.3511\n",
            "Epoch 34/100\n",
            "413/413 [==============================] - 0s 901us/step - loss: 0.3378 - val_loss: 0.3553\n",
            "Epoch 35/100\n",
            "413/413 [==============================] - 0s 866us/step - loss: 0.3348 - val_loss: 0.3610\n",
            "Epoch 36/100\n",
            "413/413 [==============================] - 0s 867us/step - loss: 0.3348 - val_loss: 0.3652\n",
            "Epoch 37/100\n",
            "413/413 [==============================] - 0s 883us/step - loss: 0.3337 - val_loss: 0.3587\n",
            "Epoch 38/100\n",
            "413/413 [==============================] - 0s 909us/step - loss: 0.3324 - val_loss: 0.3654\n",
            "Epoch 39/100\n",
            "413/413 [==============================] - 0s 856us/step - loss: 0.3342 - val_loss: 0.3562\n",
            "Epoch 40/100\n",
            "413/413 [==============================] - 0s 869us/step - loss: 0.3307 - val_loss: 0.3497\n",
            "Epoch 41/100\n",
            "413/413 [==============================] - 0s 853us/step - loss: 0.3305 - val_loss: 0.3541\n",
            "Epoch 42/100\n",
            "413/413 [==============================] - 0s 870us/step - loss: 0.3303 - val_loss: 0.3498\n",
            "Epoch 43/100\n",
            "413/413 [==============================] - 0s 885us/step - loss: 0.3283 - val_loss: 0.3516\n",
            "Epoch 44/100\n",
            "413/413 [==============================] - 0s 896us/step - loss: 0.3274 - val_loss: 0.3502\n",
            "Epoch 45/100\n",
            "413/413 [==============================] - 0s 895us/step - loss: 0.3273 - val_loss: 0.3609\n",
            "Epoch 46/100\n",
            "413/413 [==============================] - 0s 885us/step - loss: 0.3272 - val_loss: 0.3494\n",
            "Epoch 47/100\n",
            "413/413 [==============================] - 0s 868us/step - loss: 0.3262 - val_loss: 0.3448\n",
            "Epoch 48/100\n",
            "413/413 [==============================] - 0s 899us/step - loss: 0.3268 - val_loss: 0.3494\n",
            "Epoch 49/100\n",
            "413/413 [==============================] - 0s 879us/step - loss: 0.3232 - val_loss: 0.3537\n",
            "Epoch 50/100\n",
            "413/413 [==============================] - 0s 890us/step - loss: 0.3245 - val_loss: 0.3493\n",
            "Epoch 51/100\n",
            "413/413 [==============================] - 0s 890us/step - loss: 0.3239 - val_loss: 0.3497\n",
            "Epoch 52/100\n",
            "413/413 [==============================] - 0s 882us/step - loss: 0.3242 - val_loss: 0.3444\n",
            "Epoch 53/100\n",
            "413/413 [==============================] - 0s 1ms/step - loss: 0.3242 - val_loss: 0.3444\n",
            "Epoch 54/100\n",
            "413/413 [==============================] - 0s 923us/step - loss: 0.3218 - val_loss: 0.3459\n",
            "Epoch 55/100\n",
            "413/413 [==============================] - 0s 871us/step - loss: 0.3210 - val_loss: 0.3448\n",
            "Epoch 56/100\n",
            "413/413 [==============================] - 0s 884us/step - loss: 0.3210 - val_loss: 0.3465\n",
            "Epoch 57/100\n",
            "413/413 [==============================] - 0s 867us/step - loss: 0.3198 - val_loss: 0.3467\n",
            "Epoch 58/100\n",
            "413/413 [==============================] - 0s 919us/step - loss: 0.3207 - val_loss: 0.3439\n",
            "Epoch 59/100\n",
            "413/413 [==============================] - 0s 852us/step - loss: 0.3204 - val_loss: 0.3391\n",
            "Epoch 60/100\n",
            "413/413 [==============================] - 0s 851us/step - loss: 0.3204 - val_loss: 0.3509\n",
            "Epoch 61/100\n",
            "413/413 [==============================] - 0s 903us/step - loss: 0.3193 - val_loss: 0.3422\n",
            "Epoch 62/100\n",
            "413/413 [==============================] - 0s 900us/step - loss: 0.3203 - val_loss: 0.3515\n",
            "Epoch 63/100\n",
            "413/413 [==============================] - 0s 843us/step - loss: 0.3184 - val_loss: 0.3411\n",
            "Epoch 64/100\n",
            "413/413 [==============================] - 0s 846us/step - loss: 0.3187 - val_loss: 0.3469\n",
            "Epoch 65/100\n",
            "413/413 [==============================] - 0s 891us/step - loss: 0.3165 - val_loss: 0.3398\n",
            "Epoch 66/100\n",
            "413/413 [==============================] - 0s 865us/step - loss: 0.3165 - val_loss: 0.3449\n",
            "Epoch 67/100\n",
            "413/413 [==============================] - 0s 888us/step - loss: 0.3166 - val_loss: 0.3443\n",
            "Epoch 68/100\n",
            "413/413 [==============================] - 0s 853us/step - loss: 0.3171 - val_loss: 0.3366\n",
            "Epoch 69/100\n",
            "413/413 [==============================] - 0s 954us/step - loss: 0.3154 - val_loss: 0.3375\n",
            "Epoch 70/100\n",
            "413/413 [==============================] - 0s 1ms/step - loss: 0.3152 - val_loss: 0.3399\n",
            "Epoch 71/100\n",
            "413/413 [==============================] - 0s 1ms/step - loss: 0.3164 - val_loss: 0.3454\n",
            "Epoch 72/100\n",
            "413/413 [==============================] - 0s 1ms/step - loss: 0.3162 - val_loss: 0.3415\n",
            "Epoch 73/100\n",
            "413/413 [==============================] - 0s 913us/step - loss: 0.3139 - val_loss: 0.3438\n",
            "Epoch 74/100\n",
            "413/413 [==============================] - 0s 878us/step - loss: 0.3135 - val_loss: 0.3398\n",
            "Epoch 75/100\n",
            "413/413 [==============================] - 0s 889us/step - loss: 0.3149 - val_loss: 0.3389\n",
            "Epoch 76/100\n",
            "413/413 [==============================] - 0s 857us/step - loss: 0.3133 - val_loss: 0.3524\n",
            "Epoch 77/100\n",
            "413/413 [==============================] - 0s 859us/step - loss: 0.3123 - val_loss: 0.3399\n",
            "Epoch 78/100\n",
            "413/413 [==============================] - 0s 1ms/step - loss: 0.3133 - val_loss: 0.3409\n"
          ]
        }
      ],
      "execution_count": 20
    },
    {
      "cell_type": "markdown",
      "source": "* Indeed, we stopped before the 80 seasons.",
      "metadata": {
        "slideshow": {
          "slide_type": "slide"
        }
      }
    },
    {
      "cell_type": "code",
      "source": "plot_loss(history)",
      "metadata": {
        "slideshow": {
          "slide_type": "fragment"
        }
      },
      "outputs": [
        {
          "data": {
            "image/png": "[encoded data removed]",
            "text/plain": [
              "<Figure size 432x288 with 1 Axes>"
            ]
          },
          "metadata": {
            "needs_background": "light"
          },
          "output_type": "display_data"
        }
      ],
      "execution_count": 21
    },
    {
      "cell_type": "markdown",
      "source": "* The performance of the model was not significantly affected.",
      "metadata": {
        "slideshow": {
          "slide_type": "slide"
        }
      }
    },
    {
      "cell_type": "code",
      "source": "model.evaluate(X_test, y_test, verbose=0)",
      "metadata": {
        "slideshow": {
          "slide_type": "fragment"
        }
      },
      "outputs": [
        {
          "data": {
            "text/plain": [
              "0.3434012532234192"
            ]
          },
          "execution_count": 22,
          "metadata": {},
          "output_type": "execute_result"
        }
      ],
      "execution_count": 22
    },
    {
      "cell_type": "markdown",
      "source": "* Let's then make an even bigger model and see if we can do even better.",
      "metadata": {
        "slideshow": {
          "slide_type": "slide"
        }
      }
    },
    {
      "cell_type": "code",
      "source": "model = keras.Sequential([\n        normalizer,\n        layers.Dense(128, activation='relu'),\n        layers.Dense(64, activation='relu'),\n        layers.Dense(1)\n    ])\n\nmodel.compile(loss='mean_absolute_error',\n              optimizer=tf.keras.optimizers.Adam(0.001))",
      "metadata": {
        "slideshow": {
          "slide_type": "fragment"
        }
      },
      "outputs": [],
      "execution_count": 23
    },
    {
      "cell_type": "markdown",
      "source": "* We train:",
      "metadata": {
        "slideshow": {
          "slide_type": "slide"
        }
      }
    },
    {
      "cell_type": "code",
      "source": "history = model.fit(\n    X_train, \n    y_train,\n    epochs=num_epochs, \n    validation_split=0.2,\n    verbose=1,\n    callbacks=[early_stop])",
      "metadata": {
        "slideshow": {
          "slide_type": "fragment"
        }
      },
      "outputs": [
        {
          "name": "stdout",
          "output_type": "stream",
          "text": [
            "Epoch 1/100\n",
            "413/413 [==============================] - 1s 1ms/step - loss: 0.5739 - val_loss: 0.4513\n",
            "Epoch 2/100\n",
            "413/413 [==============================] - 0s 1ms/step - loss: 0.4288 - val_loss: 0.4314\n",
            "Epoch 3/100\n",
            "413/413 [==============================] - 0s 1ms/step - loss: 0.4125 - val_loss: 0.4230\n",
            "Epoch 4/100\n",
            "413/413 [==============================] - 0s 941us/step - loss: 0.4020 - val_loss: 0.4321\n",
            "Epoch 5/100\n",
            "413/413 [==============================] - 0s 952us/step - loss: 0.3878 - val_loss: 0.3997\n",
            "Epoch 6/100\n",
            "413/413 [==============================] - 0s 935us/step - loss: 0.3787 - val_loss: 0.3862\n",
            "Epoch 7/100\n",
            "413/413 [==============================] - 0s 949us/step - loss: 0.3718 - val_loss: 0.3965\n",
            "Epoch 8/100\n",
            "413/413 [==============================] - 0s 958us/step - loss: 0.3676 - val_loss: 0.3756\n",
            "Epoch 9/100\n",
            "413/413 [==============================] - 0s 908us/step - loss: 0.3620 - val_loss: 0.3777\n",
            "Epoch 10/100\n",
            "413/413 [==============================] - 0s 934us/step - loss: 0.3591 - val_loss: 0.3701\n",
            "Epoch 11/100\n",
            "413/413 [==============================] - 0s 905us/step - loss: 0.3555 - val_loss: 0.3778\n",
            "Epoch 12/100\n",
            "413/413 [==============================] - 0s 910us/step - loss: 0.3514 - val_loss: 0.3685\n",
            "Epoch 13/100\n",
            "413/413 [==============================] - 0s 928us/step - loss: 0.3512 - val_loss: 0.3788\n",
            "Epoch 14/100\n",
            "413/413 [==============================] - 0s 906us/step - loss: 0.3489 - val_loss: 0.3732\n",
            "Epoch 15/100\n",
            "413/413 [==============================] - 0s 913us/step - loss: 0.3471 - val_loss: 0.3598\n",
            "Epoch 16/100\n",
            "413/413 [==============================] - 0s 930us/step - loss: 0.3451 - val_loss: 0.3598\n",
            "Epoch 17/100\n",
            "413/413 [==============================] - 0s 1ms/step - loss: 0.3418 - val_loss: 0.3548\n",
            "Epoch 18/100\n",
            "413/413 [==============================] - 0s 995us/step - loss: 0.3415 - val_loss: 0.3531\n",
            "Epoch 19/100\n",
            "413/413 [==============================] - 0s 940us/step - loss: 0.3382 - val_loss: 0.3556\n",
            "Epoch 20/100\n",
            "413/413 [==============================] - 0s 926us/step - loss: 0.3352 - val_loss: 0.3479\n",
            "Epoch 21/100\n",
            "413/413 [==============================] - 0s 968us/step - loss: 0.3351 - val_loss: 0.3601\n",
            "Epoch 22/100\n",
            "413/413 [==============================] - 0s 1ms/step - loss: 0.3347 - val_loss: 0.3508\n",
            "Epoch 23/100\n",
            "413/413 [==============================] - 0s 919us/step - loss: 0.3326 - val_loss: 0.3577\n",
            "Epoch 24/100\n",
            "413/413 [==============================] - 0s 919us/step - loss: 0.3314 - val_loss: 0.3453\n",
            "Epoch 25/100\n",
            "413/413 [==============================] - 0s 930us/step - loss: 0.3298 - val_loss: 0.3539\n",
            "Epoch 26/100\n",
            "413/413 [==============================] - 0s 978us/step - loss: 0.3284 - val_loss: 0.3504\n",
            "Epoch 27/100\n",
            "413/413 [==============================] - 0s 1ms/step - loss: 0.3279 - val_loss: 0.3474\n",
            "Epoch 28/100\n",
            "413/413 [==============================] - 0s 928us/step - loss: 0.3280 - val_loss: 0.3502\n",
            "Epoch 29/100\n",
            "413/413 [==============================] - 0s 916us/step - loss: 0.3252 - val_loss: 0.3607\n",
            "Epoch 30/100\n",
            "413/413 [==============================] - 0s 924us/step - loss: 0.3246 - val_loss: 0.3589\n",
            "Epoch 31/100\n",
            "413/413 [==============================] - 0s 918us/step - loss: 0.3231 - val_loss: 0.3442\n",
            "Epoch 32/100\n",
            "413/413 [==============================] - 0s 974us/step - loss: 0.3212 - val_loss: 0.3523\n",
            "Epoch 33/100\n",
            "413/413 [==============================] - 0s 971us/step - loss: 0.3227 - val_loss: 0.3399\n",
            "Epoch 34/100\n",
            "413/413 [==============================] - 0s 924us/step - loss: 0.3213 - val_loss: 0.3438\n",
            "Epoch 35/100\n",
            "413/413 [==============================] - 0s 937us/step - loss: 0.3213 - val_loss: 0.3353\n",
            "Epoch 36/100\n",
            "413/413 [==============================] - 0s 956us/step - loss: 0.3194 - val_loss: 0.3555\n",
            "Epoch 37/100\n",
            "413/413 [==============================] - 0s 924us/step - loss: 0.3176 - val_loss: 0.3473\n",
            "Epoch 38/100\n",
            "413/413 [==============================] - 0s 918us/step - loss: 0.3161 - val_loss: 0.3494\n",
            "Epoch 39/100\n",
            "413/413 [==============================] - 0s 1ms/step - loss: 0.3166 - val_loss: 0.3485\n",
            "Epoch 40/100\n",
            "413/413 [==============================] - 0s 919us/step - loss: 0.3139 - val_loss: 0.3548\n",
            "Epoch 41/100\n",
            "413/413 [==============================] - 0s 927us/step - loss: 0.3140 - val_loss: 0.3425\n",
            "Epoch 42/100\n",
            "413/413 [==============================] - 0s 917us/step - loss: 0.3139 - val_loss: 0.3480\n",
            "Epoch 43/100\n",
            "413/413 [==============================] - 0s 918us/step - loss: 0.3124 - val_loss: 0.3385\n",
            "Epoch 44/100\n",
            "413/413 [==============================] - 0s 965us/step - loss: 0.3122 - val_loss: 0.3337\n",
            "Epoch 45/100\n",
            "413/413 [==============================] - 0s 931us/step - loss: 0.3122 - val_loss: 0.3385\n",
            "Epoch 46/100\n",
            "413/413 [==============================] - 0s 973us/step - loss: 0.3115 - val_loss: 0.3375\n",
            "Epoch 47/100\n",
            "413/413 [==============================] - 0s 964us/step - loss: 0.3104 - val_loss: 0.3402\n",
            "Epoch 48/100\n",
            "413/413 [==============================] - 0s 967us/step - loss: 0.3104 - val_loss: 0.3354\n",
            "Epoch 49/100\n",
            "413/413 [==============================] - 0s 955us/step - loss: 0.3074 - val_loss: 0.3412\n",
            "Epoch 50/100\n",
            "413/413 [==============================] - 0s 944us/step - loss: 0.3081 - val_loss: 0.3347\n",
            "Epoch 51/100\n",
            "413/413 [==============================] - 0s 980us/step - loss: 0.3078 - val_loss: 0.3384\n",
            "Epoch 52/100\n",
            "413/413 [==============================] - 0s 935us/step - loss: 0.3074 - val_loss: 0.3358\n",
            "Epoch 53/100\n",
            "413/413 [==============================] - 0s 930us/step - loss: 0.3066 - val_loss: 0.3403\n",
            "Epoch 54/100\n",
            "413/413 [==============================] - 0s 959us/step - loss: 0.3063 - val_loss: 0.3348\n"
          ]
        }
      ],
      "execution_count": 24
    },
    {
      "cell_type": "markdown",
      "source": "* The deviation between losses grew even more.",
      "metadata": {
        "slideshow": {
          "slide_type": "slide"
        }
      }
    },
    {
      "cell_type": "code",
      "source": "plot_loss(history)",
      "metadata": {
        "slideshow": {
          "slide_type": "fragment"
        }
      },
      "outputs": [
        {
          "data": {
            "image/png": "[encoded data removed]",
            "text/plain": [
              "<Figure size 432x288 with 1 Axes>"
            ]
          },
          "metadata": {
            "needs_background": "light"
          },
          "output_type": "display_data"
        }
      ],
      "execution_count": 25
    },
    {
      "cell_type": "markdown",
      "source": "* The performance remained at the same levels.",
      "metadata": {
        "slideshow": {
          "slide_type": "slide"
        }
      }
    },
    {
      "cell_type": "code",
      "source": "model.evaluate(X_test, y_test, verbose=0)",
      "metadata": {
        "slideshow": {
          "slide_type": "fragment"
        }
      },
      "outputs": [
        {
          "data": {
            "text/plain": [
              "0.33250880241394043"
            ]
          },
          "execution_count": 26,
          "metadata": {},
          "output_type": "execute_result"
        }
      ],
      "execution_count": 26
    },
    {
      "cell_type": "markdown",
      "source": "* And if we grow it even further?",
      "metadata": {
        "slideshow": {
          "slide_type": "slide"
        }
      }
    },
    {
      "cell_type": "code",
      "source": "model = keras.Sequential([\n        normalizer,\n        layers.Dense(256, activation='relu'),\n        layers.Dense(128, activation='relu'),\n        layers.Dense(64, activation='relu'),\n        layers.Dense(1)\n    ])\n\nmodel.compile(loss='mean_absolute_error',\n              optimizer=tf.keras.optimizers.Adam(0.001))",
      "metadata": {
        "slideshow": {
          "slide_type": "fragment"
        }
      },
      "outputs": [],
      "execution_count": 27
    },
    {
      "cell_type": "markdown",
      "source": "* We train:",
      "metadata": {
        "slideshow": {
          "slide_type": "slide"
        }
      }
    },
    {
      "cell_type": "code",
      "source": "history = model.fit(\n    X_train, \n    y_train,\n    epochs=num_epochs, \n    validation_split=0.2,\n    verbose=1,\n    callbacks=[early_stop])",
      "metadata": {
        "slideshow": {
          "slide_type": "fragment"
        }
      },
      "outputs": [
        {
          "name": "stdout",
          "output_type": "stream",
          "text": [
            "Epoch 1/100\n",
            "413/413 [==============================] - 1s 1ms/step - loss: 0.5213 - val_loss: 0.4465\n",
            "Epoch 2/100\n",
            "413/413 [==============================] - 1s 1ms/step - loss: 0.4197 - val_loss: 0.4157\n",
            "Epoch 3/100\n",
            "413/413 [==============================] - 0s 1ms/step - loss: 0.3938 - val_loss: 0.3961\n",
            "Epoch 4/100\n",
            "413/413 [==============================] - 1s 1ms/step - loss: 0.3803 - val_loss: 0.4002\n",
            "Epoch 5/100\n",
            "413/413 [==============================] - 1s 1ms/step - loss: 0.3708 - val_loss: 0.3876\n",
            "Epoch 6/100\n",
            "413/413 [==============================] - 0s 1ms/step - loss: 0.3621 - val_loss: 0.3805\n",
            "Epoch 7/100\n",
            "413/413 [==============================] - 1s 1ms/step - loss: 0.3599 - val_loss: 0.3767\n",
            "Epoch 8/100\n",
            "413/413 [==============================] - 1s 1ms/step - loss: 0.3555 - val_loss: 0.3645\n",
            "Epoch 9/100\n",
            "413/413 [==============================] - 1s 1ms/step - loss: 0.3513 - val_loss: 0.3792\n",
            "Epoch 10/100\n",
            "413/413 [==============================] - 0s 1ms/step - loss: 0.3440 - val_loss: 0.3616\n",
            "Epoch 11/100\n",
            "413/413 [==============================] - 1s 1ms/step - loss: 0.3430 - val_loss: 0.3673\n",
            "Epoch 12/100\n",
            "413/413 [==============================] - 0s 1ms/step - loss: 0.3417 - val_loss: 0.3819\n",
            "Epoch 13/100\n",
            "413/413 [==============================] - 0s 1ms/step - loss: 0.3390 - val_loss: 0.3717\n",
            "Epoch 14/100\n",
            "413/413 [==============================] - 1s 1ms/step - loss: 0.3352 - val_loss: 0.3669\n",
            "Epoch 15/100\n",
            "413/413 [==============================] - 1s 1ms/step - loss: 0.3333 - val_loss: 0.3544\n",
            "Epoch 16/100\n",
            "413/413 [==============================] - 1s 1ms/step - loss: 0.3306 - val_loss: 0.3556\n",
            "Epoch 17/100\n",
            "413/413 [==============================] - 0s 1ms/step - loss: 0.3277 - val_loss: 0.3508\n",
            "Epoch 18/100\n",
            "413/413 [==============================] - 1s 1ms/step - loss: 0.3273 - val_loss: 0.3437\n",
            "Epoch 19/100\n",
            "413/413 [==============================] - 1s 1ms/step - loss: 0.3247 - val_loss: 0.3383\n",
            "Epoch 20/100\n",
            "413/413 [==============================] - 1s 1ms/step - loss: 0.3232 - val_loss: 0.3402\n",
            "Epoch 21/100\n",
            "413/413 [==============================] - 0s 1ms/step - loss: 0.3219 - val_loss: 0.3495\n",
            "Epoch 22/100\n",
            "413/413 [==============================] - 0s 1ms/step - loss: 0.3203 - val_loss: 0.3400\n",
            "Epoch 23/100\n",
            "413/413 [==============================] - 1s 1ms/step - loss: 0.3167 - val_loss: 0.3421\n",
            "Epoch 24/100\n",
            "413/413 [==============================] - 1s 1ms/step - loss: 0.3173 - val_loss: 0.3360\n",
            "Epoch 25/100\n",
            "413/413 [==============================] - 0s 1ms/step - loss: 0.3157 - val_loss: 0.3471\n",
            "Epoch 26/100\n",
            "413/413 [==============================] - 0s 1ms/step - loss: 0.3126 - val_loss: 0.3356\n",
            "Epoch 27/100\n",
            "413/413 [==============================] - 1s 1ms/step - loss: 0.3112 - val_loss: 0.3325\n",
            "Epoch 28/100\n",
            "413/413 [==============================] - 0s 1ms/step - loss: 0.3093 - val_loss: 0.3352\n",
            "Epoch 29/100\n",
            "413/413 [==============================] - 0s 1ms/step - loss: 0.3071 - val_loss: 0.3514\n",
            "Epoch 30/100\n",
            "413/413 [==============================] - 1s 1ms/step - loss: 0.3097 - val_loss: 0.3405\n",
            "Epoch 31/100\n",
            "413/413 [==============================] - 1s 1ms/step - loss: 0.3063 - val_loss: 0.3352\n",
            "Epoch 32/100\n",
            "413/413 [==============================] - 1s 1ms/step - loss: 0.3043 - val_loss: 0.3451\n",
            "Epoch 33/100\n",
            "413/413 [==============================] - 0s 1ms/step - loss: 0.3061 - val_loss: 0.3517\n",
            "Epoch 34/100\n",
            "413/413 [==============================] - 1s 1ms/step - loss: 0.3037 - val_loss: 0.3286\n",
            "Epoch 35/100\n",
            "413/413 [==============================] - 1s 1ms/step - loss: 0.3032 - val_loss: 0.3321\n",
            "Epoch 36/100\n",
            "413/413 [==============================] - 1s 1ms/step - loss: 0.2999 - val_loss: 0.3462\n",
            "Epoch 37/100\n",
            "413/413 [==============================] - 1s 1ms/step - loss: 0.2962 - val_loss: 0.3296\n",
            "Epoch 38/100\n",
            "413/413 [==============================] - 0s 1ms/step - loss: 0.2972 - val_loss: 0.3546\n",
            "Epoch 39/100\n",
            "413/413 [==============================] - 0s 1ms/step - loss: 0.2961 - val_loss: 0.3575\n",
            "Epoch 40/100\n",
            "413/413 [==============================] - 0s 1ms/step - loss: 0.2942 - val_loss: 0.3321\n",
            "Epoch 41/100\n",
            "413/413 [==============================] - 1s 1ms/step - loss: 0.2932 - val_loss: 0.3369\n",
            "Epoch 42/100\n",
            "413/413 [==============================] - 0s 1ms/step - loss: 0.2911 - val_loss: 0.3406\n",
            "Epoch 43/100\n",
            "413/413 [==============================] - 1s 1ms/step - loss: 0.2908 - val_loss: 0.3329\n",
            "Epoch 44/100\n",
            "413/413 [==============================] - 0s 1ms/step - loss: 0.2893 - val_loss: 0.3314\n"
          ]
        }
      ],
      "execution_count": 28
    },
    {
      "cell_type": "markdown",
      "source": "* Εδώ κι αν μεγάλωσε η απόκλιση!",
      "metadata": {
        "slideshow": {
          "slide_type": "slide"
        }
      }
    },
    {
      "cell_type": "code",
      "source": "plot_loss(history)",
      "metadata": {
        "slideshow": {
          "slide_type": "fragment"
        }
      },
      "outputs": [
        {
          "data": {
            "image/png": "[encoded data removed]",
            "text/plain": [
              "<Figure size 432x288 with 1 Axes>"
            ]
          },
          "metadata": {
            "needs_background": "light"
          },
          "output_type": "display_data"
        }
      ],
      "execution_count": 29
    },
    {
      "cell_type": "markdown",
      "source": "* And the performance at the same (or rather subtly worse).",
      "metadata": {
        "slideshow": {
          "slide_type": "slide"
        }
      }
    },
    {
      "cell_type": "code",
      "source": "model.evaluate(X_test, y_test, verbose=0)",
      "metadata": {
        "slideshow": {
          "slide_type": "fragment"
        }
      },
      "outputs": [
        {
          "data": {
            "text/plain": [
              "0.33307990431785583"
            ]
          },
          "execution_count": 30,
          "metadata": {},
          "output_type": "execute_result"
        }
      ],
      "execution_count": 30
    },
    {
      "cell_type": "markdown",
      "source": "* Why is this happening?\n\n* Let's look at the model.",
      "metadata": {
        "slideshow": {
          "slide_type": "slide"
        }
      }
    },
    {
      "cell_type": "code",
      "source": "model.summary()",
      "metadata": {
        "slideshow": {
          "slide_type": "fragment"
        }
      },
      "outputs": [
        {
          "name": "stdout",
          "output_type": "stream",
          "text": [
            "Model: \"sequential_4\"\n",
            "_________________________________________________________________\n",
            " Layer (type)                Output Shape              Param #   \n",
            "=================================================================\n",
            " normalization (Normalizatio  (None, 8)                17        \n",
            " n)                                                              \n",
            "                                                                 \n",
            " dense_11 (Dense)            (None, 256)               2304      \n",
            "                                                                 \n",
            " dense_12 (Dense)            (None, 128)               32896     \n",
            "                                                                 \n",
            " dense_13 (Dense)            (None, 64)                8256      \n",
            "                                                                 \n",
            " dense_14 (Dense)            (None, 1)                 65        \n",
            "                                                                 \n",
            "=================================================================\n",
            "Total params: 43,538\n",
            "Trainable params: 43,521\n",
            "Non-trainable params: 17\n",
            "_________________________________________________________________\n"
          ]
        }
      ],
      "execution_count": 31
    },
    {
      "cell_type": "markdown",
      "source": "* We have built a model that has more parameters than our samples.\n\n* The model is too robust for the data at our disposal.\n\n* Such a model may fall victim to overfitting.",
      "metadata": {
        "slideshow": {
          "slide_type": "slide"
        }
      }
    },
    {
      "cell_type": "code",
      "source": "model.count_params()",
      "metadata": {
        "slideshow": {
          "slide_type": "fragment"
        }
      },
      "outputs": [
        {
          "data": {
            "text/plain": [
              "43538"
            ]
          },
          "execution_count": 32,
          "metadata": {},
          "output_type": "execute_result"
        }
      ],
      "execution_count": 32
    },
    {
      "cell_type": "markdown",
      "source": "* Attention! When we build neural networks, we don't add blind layers and neurons.\n\n* Ultimately what we will achieve is to build a network with so many neurons and connections that it will very quickly start parroting the data.\n\n* We need to size the network based on the data volume of our problem.",
      "metadata": {
        "slideshow": {
          "slide_type": "slide"
        }
      }
    },
    {
      "cell_type": "markdown",
      "source": "* The results are similar (maybe a little worse, but we didn't look for hyperparameters) to what we achieved through decision trees.\n\n* As we can see though, training neural networks may need more resources.\n\n* Also as we can see, we do not have the interpretability that we can have with other methods.",
      "metadata": {
        "slideshow": {
          "slide_type": "slide"
        }
      }
    }
  ]
}