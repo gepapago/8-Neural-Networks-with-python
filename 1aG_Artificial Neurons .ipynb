{
  "metadata": {
    "kernelspec": {
      "name": "python",
      "display_name": "Python (Pyodide)",
      "language": "python"
    },
    "language_info": {
      "codemirror_mode": {
        "name": "python",
        "version": 3
      },
      "file_extension": ".py",
      "mimetype": "text/x-python",
      "name": "python",
      "nbconvert_exporter": "python",
      "pygments_lexer": "ipython3",
      "version": "3.8"
    },
    "celltoolbar": "Slideshow"
  },
  "nbformat_minor": 4,
  "nbformat": 4,
  "cells": [
    {
      "cell_type": "markdown",
      "source": "# Artificial Neurons ",
      "metadata": {
        "slideshow": {
          "slide_type": "slide"
        }
      }
    },
    {
      "cell_type": "markdown",
      "source": "* An artificial neuron is a simplified model of the biological neuron.\n\n* The neuron has inputs $x_1, x_2, \\ldots, x_n$.\n\n* Each input has a *weight*. So we have weights $w_1, w_2, \\ldots, w_n$.\n\n* The neuron takes each input and multiplies it by the corresponding weight.\n\n* It then sums the products, producing the *weighted input* (weighted input) of the neuron.\n\n* In this he adds to the weighted input a *bias* or *threshold* (threshold), so that we have:\n\n$$ w_1 x_1 + w_2 x_2 + \\cdots + w_n x_n + b$$",
      "metadata": {
        "slideshow": {
          "slide_type": "slide"
        }
      }
    },
    {
      "cell_type": "markdown",
      "source": "* We usually use vectors and matrices to describe the operation of neural networks.\n\n* Let $\\mathbf{w} = [ w_1, w_2, \\ldots, w_n ]$ be the weights.\n\n* Let $\\mathbf{x} = [ x_1, x_2, \\ldots, x_n ]$ be the inputs.\n\n* Then the operations we described are the inner product of the two vectors plus the bias:\n\n$$\\mathbf{w} \\cdot \\mathbf{x} + b = \\sum_{i=1}^{n}{w_i x_i} + b$$",
      "metadata": {
        "slideshow": {
          "slide_type": "slide"
        }
      }
    },
    {
      "cell_type": "markdown",
      "source": "* Just as the output of a biological neuron depends on its inputs, so the output of the artificial neuron depends on its inputs.\n\n* This in the artificial neuron is done by giving the result it has calculated so far in a special *activation function* (activation function).\n\n* The result of the activation function is the output of the (artificial) neuron.",
      "metadata": {
        "slideshow": {
          "slide_type": "slide"
        }
      }
    },
    {
      "cell_type": "markdown",
      "source": "* The simplest activation function is the step function, which gives us a result of 0 or 1.\n\n* The neuron has an output of one when the input to the activation function is greater than zero, otherwise the output is zero.\n\n$$\n y = \n  \\begin{cases} \n   0 & \\sum_j{w_j x_j} + b \\le 0 \\\\\n   1 & \\sum_j{w_j x_j} +b > 0\n  \\end{cases}\n$$",
      "metadata": {
        "slideshow": {
          "slide_type": "slide"
        }
      }
    },
    {
      "cell_type": "code",
      "source": "import matplotlib.pyplot as plt\nimport numpy as np\n\n%matplotlib inline\n\nfig = plt.figure(figsize=(8, 6))\nax = plt.axes()\nax.spines['right'].set_visible(False)\nax.spines['top'].set_visible(False)\nplt.xlim((-5, 5))\nplt.xticks(np.arange(-5, 6, 1))\nx = np.linspace(-5, 0, 50)\ny = np.zeros_like(x)\nall_x = np.append(x, -x[::-1])\nall_y = np.append(y, np.ones_like(-x[::-1]))\n_ = plt.plot(all_x, all_y)",
      "metadata": {
        "slideshow": {
          "slide_type": "slide"
        },
        "tags": [
          "remove_input"
        ]
      },
      "outputs": [
        {
          "data": {
            "image/png": "[encoded data removed]",
            "text/plain": [
              "<Figure size 576x432 with 1 Axes>"
            ]
          },
          "metadata": {
            "needs_background": "light"
          },
          "output_type": "display_data"
        }
      ],
      "execution_count": 1
    },
    {
      "cell_type": "markdown",
      "source": "* To build artificial neural networks, we don't need to literally build artificial neurons.\n\n* As we have seen, a neuron does nothing more than calculate a simple mathematical function. So we can properly implement it in a programming language..",
      "metadata": {
        "slideshow": {
          "slide_type": "slide"
        }
      }
    }
  ]
}