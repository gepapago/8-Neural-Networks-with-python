{
  "metadata": {
    "kernelspec": {
      "name": "python",
      "display_name": "Python (Pyodide)",
      "language": "python"
    },
    "language_info": {
      "codemirror_mode": {
        "name": "python",
        "version": 3
      },
      "file_extension": ".py",
      "mimetype": "text/x-python",
      "name": "python",
      "nbconvert_exporter": "python",
      "pygments_lexer": "ipython3",
      "version": "3.8"
    },
    "celltoolbar": "Slideshow"
  },
  "nbformat_minor": 4,
  "nbformat": 4,
  "cells": [
    {
      "cell_type": "markdown",
      "source": "# Searching for elementary particles with Neural Networks (Learning rate, Dropout and Regularization)\n### The data we will use comes from a research where the potential of neural networks in the search for new particles in physics was examined: Baldi, P., Sadowski, P. & Whiteson, D. Searching for exotic particles in high-energy physics with deep learning. Nat Commun 5, 4308 (2014). https://doi.org/10.1038/ncomms5308.\n### The goal is to classify between two classes (if there is a clue or not) based on 28 features.",
      "metadata": {
        "slideshow": {
          "slide_type": "slide"
        }
      }
    },
    {
      "cell_type": "code",
      "source": "import matplotlib.pyplot as plt\n\nimport tensorflow as tf\nfrom tensorflow import keras\nfrom tensorflow.keras import layers\nfrom tensorflow.keras import regularizers\n\nfrom sklearn.model_selection import train_test_split\n\nimport pandas as pd\nimport numpy as np\n\ntf.random.set_seed(0) # for replicability purposes, not for production",
      "metadata": {
        "slideshow": {
          "slide_type": "slide"
        }
      },
      "outputs": [],
      "execution_count": 1
    },
    {
      "cell_type": "markdown",
      "source": "* The dataset is available from <https://archive.ics.uci.edu/ml/datasets/HIGGS>. We for practical reasons will use a subset of 13,000 samples.",
      "metadata": {
        "slideshow": {
          "slide_type": "slide"
        }
      }
    },
    {
      "cell_type": "code",
      "source": "higgs_data = pd.read_csv(\"higgs.csv\", dtype=float)\nhiggs_data",
      "metadata": {
        "slideshow": {
          "slide_type": "slide"
        }
      },
      "outputs": [
        {
          "data": {
            "text/html": [
              "<div>\n",
              "<style scoped>\n",
              "    .dataframe tbody tr th:only-of-type {\n",
              "        vertical-align: middle;\n",
              "    }\n",
              "\n",
              "    .dataframe tbody tr th {\n",
              "        vertical-align: top;\n",
              "    }\n",
              "\n",
              "    .dataframe thead th {\n",
              "        text-align: right;\n",
              "    }\n",
              "</style>\n",
              "<table border=\"1\" class=\"dataframe\">\n",
              "  <thead>\n",
              "    <tr style=\"text-align: right;\">\n",
              "      <th></th>\n",
              "      <th>label</th>\n",
              "      <th>lepton pT</th>\n",
              "      <th>lepton eta</th>\n",
              "      <th>lepton phi</th>\n",
              "      <th>missing energy magnitude</th>\n",
              "      <th>missing energy phi</th>\n",
              "      <th>jet 1 pt</th>\n",
              "      <th>jet 1 eta</th>\n",
              "      <th>jet 1 phi</th>\n",
              "      <th>jet 1 b-tag</th>\n",
              "      <th>...</th>\n",
              "      <th>jet 4 eta</th>\n",
              "      <th>jet 4 phi</th>\n",
              "      <th>jet 4 b-tag</th>\n",
              "      <th>m_jj</th>\n",
              "      <th>m_jjj</th>\n",
              "      <th>m_lv</th>\n",
              "      <th>m_jlv</th>\n",
              "      <th>m_bb</th>\n",
              "      <th>m_wbb</th>\n",
              "      <th>m_wwbb</th>\n",
              "    </tr>\n",
              "  </thead>\n",
              "  <tbody>\n",
              "    <tr>\n",
              "      <th>0</th>\n",
              "      <td>1.0</td>\n",
              "      <td>0.869293</td>\n",
              "      <td>-0.635082</td>\n",
              "      <td>0.225690</td>\n",
              "      <td>0.327470</td>\n",
              "      <td>-0.689993</td>\n",
              "      <td>0.754202</td>\n",
              "      <td>-0.248573</td>\n",
              "      <td>-1.092064</td>\n",
              "      <td>0.000000</td>\n",
              "      <td>...</td>\n",
              "      <td>-0.010455</td>\n",
              "      <td>-0.045767</td>\n",
              "      <td>3.101961</td>\n",
              "      <td>1.353760</td>\n",
              "      <td>0.979563</td>\n",
              "      <td>0.978076</td>\n",
              "      <td>0.920005</td>\n",
              "      <td>0.721657</td>\n",
              "      <td>0.988751</td>\n",
              "      <td>0.876678</td>\n",
              "    </tr>\n",
              "    <tr>\n",
              "      <th>1</th>\n",
              "      <td>1.0</td>\n",
              "      <td>0.907542</td>\n",
              "      <td>0.329147</td>\n",
              "      <td>0.359412</td>\n",
              "      <td>1.497970</td>\n",
              "      <td>-0.313010</td>\n",
              "      <td>1.095531</td>\n",
              "      <td>-0.557525</td>\n",
              "      <td>-1.588230</td>\n",
              "      <td>2.173076</td>\n",
              "      <td>...</td>\n",
              "      <td>-1.138930</td>\n",
              "      <td>-0.000819</td>\n",
              "      <td>0.000000</td>\n",
              "      <td>0.302220</td>\n",
              "      <td>0.833048</td>\n",
              "      <td>0.985700</td>\n",
              "      <td>0.978098</td>\n",
              "      <td>0.779732</td>\n",
              "      <td>0.992356</td>\n",
              "      <td>0.798343</td>\n",
              "    </tr>\n",
              "    <tr>\n",
              "      <th>2</th>\n",
              "      <td>1.0</td>\n",
              "      <td>0.798835</td>\n",
              "      <td>1.470639</td>\n",
              "      <td>-1.635975</td>\n",
              "      <td>0.453773</td>\n",
              "      <td>0.425629</td>\n",
              "      <td>1.104875</td>\n",
              "      <td>1.282322</td>\n",
              "      <td>1.381664</td>\n",
              "      <td>0.000000</td>\n",
              "      <td>...</td>\n",
              "      <td>1.128848</td>\n",
              "      <td>0.900461</td>\n",
              "      <td>0.000000</td>\n",
              "      <td>0.909753</td>\n",
              "      <td>1.108330</td>\n",
              "      <td>0.985692</td>\n",
              "      <td>0.951331</td>\n",
              "      <td>0.803252</td>\n",
              "      <td>0.865924</td>\n",
              "      <td>0.780118</td>\n",
              "    </tr>\n",
              "    <tr>\n",
              "      <th>3</th>\n",
              "      <td>0.0</td>\n",
              "      <td>1.344385</td>\n",
              "      <td>-0.876626</td>\n",
              "      <td>0.935913</td>\n",
              "      <td>1.992050</td>\n",
              "      <td>0.882454</td>\n",
              "      <td>1.786066</td>\n",
              "      <td>-1.646778</td>\n",
              "      <td>-0.942383</td>\n",
              "      <td>0.000000</td>\n",
              "      <td>...</td>\n",
              "      <td>-0.678379</td>\n",
              "      <td>-1.360356</td>\n",
              "      <td>0.000000</td>\n",
              "      <td>0.946652</td>\n",
              "      <td>1.028704</td>\n",
              "      <td>0.998656</td>\n",
              "      <td>0.728281</td>\n",
              "      <td>0.869200</td>\n",
              "      <td>1.026736</td>\n",
              "      <td>0.957904</td>\n",
              "    </tr>\n",
              "    <tr>\n",
              "      <th>4</th>\n",
              "      <td>1.0</td>\n",
              "      <td>1.105009</td>\n",
              "      <td>0.321356</td>\n",
              "      <td>1.522401</td>\n",
              "      <td>0.882808</td>\n",
              "      <td>-1.205349</td>\n",
              "      <td>0.681466</td>\n",
              "      <td>-1.070464</td>\n",
              "      <td>-0.921871</td>\n",
              "      <td>0.000000</td>\n",
              "      <td>...</td>\n",
              "      <td>-0.373566</td>\n",
              "      <td>0.113041</td>\n",
              "      <td>0.000000</td>\n",
              "      <td>0.755856</td>\n",
              "      <td>1.361057</td>\n",
              "      <td>0.986610</td>\n",
              "      <td>0.838085</td>\n",
              "      <td>1.133295</td>\n",
              "      <td>0.872245</td>\n",
              "      <td>0.808487</td>\n",
              "    </tr>\n",
              "    <tr>\n",
              "      <th>...</th>\n",
              "      <td>...</td>\n",
              "      <td>...</td>\n",
              "      <td>...</td>\n",
              "      <td>...</td>\n",
              "      <td>...</td>\n",
              "      <td>...</td>\n",
              "      <td>...</td>\n",
              "      <td>...</td>\n",
              "      <td>...</td>\n",
              "      <td>...</td>\n",
              "      <td>...</td>\n",
              "      <td>...</td>\n",
              "      <td>...</td>\n",
              "      <td>...</td>\n",
              "      <td>...</td>\n",
              "      <td>...</td>\n",
              "      <td>...</td>\n",
              "      <td>...</td>\n",
              "      <td>...</td>\n",
              "      <td>...</td>\n",
              "      <td>...</td>\n",
              "    </tr>\n",
              "    <tr>\n",
              "      <th>12995</th>\n",
              "      <td>0.0</td>\n",
              "      <td>0.915045</td>\n",
              "      <td>-0.318542</td>\n",
              "      <td>0.623526</td>\n",
              "      <td>0.431166</td>\n",
              "      <td>1.338325</td>\n",
              "      <td>0.641709</td>\n",
              "      <td>-0.750620</td>\n",
              "      <td>1.153816</td>\n",
              "      <td>2.173076</td>\n",
              "      <td>...</td>\n",
              "      <td>-0.691704</td>\n",
              "      <td>-0.797121</td>\n",
              "      <td>0.000000</td>\n",
              "      <td>0.662336</td>\n",
              "      <td>0.888811</td>\n",
              "      <td>0.994402</td>\n",
              "      <td>0.876122</td>\n",
              "      <td>1.207429</td>\n",
              "      <td>0.790956</td>\n",
              "      <td>0.733438</td>\n",
              "    </tr>\n",
              "    <tr>\n",
              "      <th>12996</th>\n",
              "      <td>0.0</td>\n",
              "      <td>1.076093</td>\n",
              "      <td>0.377846</td>\n",
              "      <td>0.301706</td>\n",
              "      <td>0.297954</td>\n",
              "      <td>-1.517734</td>\n",
              "      <td>0.715086</td>\n",
              "      <td>1.019911</td>\n",
              "      <td>-1.453517</td>\n",
              "      <td>2.173076</td>\n",
              "      <td>...</td>\n",
              "      <td>-0.261967</td>\n",
              "      <td>0.204601</td>\n",
              "      <td>3.101961</td>\n",
              "      <td>1.031421</td>\n",
              "      <td>0.828652</td>\n",
              "      <td>0.986768</td>\n",
              "      <td>0.845410</td>\n",
              "      <td>1.701100</td>\n",
              "      <td>1.004952</td>\n",
              "      <td>0.854111</td>\n",
              "    </tr>\n",
              "    <tr>\n",
              "      <th>12997</th>\n",
              "      <td>1.0</td>\n",
              "      <td>1.296986</td>\n",
              "      <td>-1.198036</td>\n",
              "      <td>0.437647</td>\n",
              "      <td>1.742790</td>\n",
              "      <td>-0.218009</td>\n",
              "      <td>2.283859</td>\n",
              "      <td>-0.934802</td>\n",
              "      <td>1.201492</td>\n",
              "      <td>0.000000</td>\n",
              "      <td>...</td>\n",
              "      <td>-0.142873</td>\n",
              "      <td>1.619627</td>\n",
              "      <td>0.000000</td>\n",
              "      <td>1.124735</td>\n",
              "      <td>2.031752</td>\n",
              "      <td>1.159143</td>\n",
              "      <td>0.975911</td>\n",
              "      <td>1.069575</td>\n",
              "      <td>1.566676</td>\n",
              "      <td>1.410350</td>\n",
              "    </tr>\n",
              "    <tr>\n",
              "      <th>12998</th>\n",
              "      <td>1.0</td>\n",
              "      <td>1.151859</td>\n",
              "      <td>-0.981815</td>\n",
              "      <td>-1.661498</td>\n",
              "      <td>0.741689</td>\n",
              "      <td>0.353002</td>\n",
              "      <td>0.667175</td>\n",
              "      <td>0.204952</td>\n",
              "      <td>0.488566</td>\n",
              "      <td>2.173076</td>\n",
              "      <td>...</td>\n",
              "      <td>-0.825788</td>\n",
              "      <td>-0.094044</td>\n",
              "      <td>1.550981</td>\n",
              "      <td>0.973411</td>\n",
              "      <td>0.997322</td>\n",
              "      <td>1.242204</td>\n",
              "      <td>0.739249</td>\n",
              "      <td>0.681640</td>\n",
              "      <td>0.757485</td>\n",
              "      <td>0.812424</td>\n",
              "    </tr>\n",
              "    <tr>\n",
              "      <th>12999</th>\n",
              "      <td>1.0</td>\n",
              "      <td>1.547159</td>\n",
              "      <td>-1.397699</td>\n",
              "      <td>0.625745</td>\n",
              "      <td>0.398250</td>\n",
              "      <td>-0.191610</td>\n",
              "      <td>0.979373</td>\n",
              "      <td>-0.899154</td>\n",
              "      <td>-1.190743</td>\n",
              "      <td>2.173076</td>\n",
              "      <td>...</td>\n",
              "      <td>-1.528691</td>\n",
              "      <td>-0.550182</td>\n",
              "      <td>0.000000</td>\n",
              "      <td>0.745075</td>\n",
              "      <td>0.967069</td>\n",
              "      <td>0.990681</td>\n",
              "      <td>0.637979</td>\n",
              "      <td>0.734102</td>\n",
              "      <td>0.829417</td>\n",
              "      <td>0.700935</td>\n",
              "    </tr>\n",
              "  </tbody>\n",
              "</table>\n",
              "<p>13000 rows × 29 columns</p>\n",
              "</div>"
            ],
            "text/plain": [
              "       label  lepton pT  lepton eta  lepton phi  missing energy magnitude  \\\n",
              "0        1.0   0.869293   -0.635082    0.225690                  0.327470   \n",
              "1        1.0   0.907542    0.329147    0.359412                  1.497970   \n",
              "2        1.0   0.798835    1.470639   -1.635975                  0.453773   \n",
              "3        0.0   1.344385   -0.876626    0.935913                  1.992050   \n",
              "4        1.0   1.105009    0.321356    1.522401                  0.882808   \n",
              "...      ...        ...         ...         ...                       ...   \n",
              "12995    0.0   0.915045   -0.318542    0.623526                  0.431166   \n",
              "12996    0.0   1.076093    0.377846    0.301706                  0.297954   \n",
              "12997    1.0   1.296986   -1.198036    0.437647                  1.742790   \n",
              "12998    1.0   1.151859   -0.981815   -1.661498                  0.741689   \n",
              "12999    1.0   1.547159   -1.397699    0.625745                  0.398250   \n",
              "\n",
              "       missing energy phi  jet 1 pt  jet 1 eta  jet 1 phi  jet 1 b-tag  ...  \\\n",
              "0               -0.689993  0.754202  -0.248573  -1.092064     0.000000  ...   \n",
              "1               -0.313010  1.095531  -0.557525  -1.588230     2.173076  ...   \n",
              "2                0.425629  1.104875   1.282322   1.381664     0.000000  ...   \n",
              "3                0.882454  1.786066  -1.646778  -0.942383     0.000000  ...   \n",
              "4               -1.205349  0.681466  -1.070464  -0.921871     0.000000  ...   \n",
              "...                   ...       ...        ...        ...          ...  ...   \n",
              "12995            1.338325  0.641709  -0.750620   1.153816     2.173076  ...   \n",
              "12996           -1.517734  0.715086   1.019911  -1.453517     2.173076  ...   \n",
              "12997           -0.218009  2.283859  -0.934802   1.201492     0.000000  ...   \n",
              "12998            0.353002  0.667175   0.204952   0.488566     2.173076  ...   \n",
              "12999           -0.191610  0.979373  -0.899154  -1.190743     2.173076  ...   \n",
              "\n",
              "       jet 4 eta  jet 4 phi  jet 4 b-tag      m_jj     m_jjj      m_lv  \\\n",
              "0      -0.010455  -0.045767     3.101961  1.353760  0.979563  0.978076   \n",
              "1      -1.138930  -0.000819     0.000000  0.302220  0.833048  0.985700   \n",
              "2       1.128848   0.900461     0.000000  0.909753  1.108330  0.985692   \n",
              "3      -0.678379  -1.360356     0.000000  0.946652  1.028704  0.998656   \n",
              "4      -0.373566   0.113041     0.000000  0.755856  1.361057  0.986610   \n",
              "...          ...        ...          ...       ...       ...       ...   \n",
              "12995  -0.691704  -0.797121     0.000000  0.662336  0.888811  0.994402   \n",
              "12996  -0.261967   0.204601     3.101961  1.031421  0.828652  0.986768   \n",
              "12997  -0.142873   1.619627     0.000000  1.124735  2.031752  1.159143   \n",
              "12998  -0.825788  -0.094044     1.550981  0.973411  0.997322  1.242204   \n",
              "12999  -1.528691  -0.550182     0.000000  0.745075  0.967069  0.990681   \n",
              "\n",
              "          m_jlv      m_bb     m_wbb    m_wwbb  \n",
              "0      0.920005  0.721657  0.988751  0.876678  \n",
              "1      0.978098  0.779732  0.992356  0.798343  \n",
              "2      0.951331  0.803252  0.865924  0.780118  \n",
              "3      0.728281  0.869200  1.026736  0.957904  \n",
              "4      0.838085  1.133295  0.872245  0.808487  \n",
              "...         ...       ...       ...       ...  \n",
              "12995  0.876122  1.207429  0.790956  0.733438  \n",
              "12996  0.845410  1.701100  1.004952  0.854111  \n",
              "12997  0.975911  1.069575  1.566676  1.410350  \n",
              "12998  0.739249  0.681640  0.757485  0.812424  \n",
              "12999  0.637979  0.734102  0.829417  0.700935  \n",
              "\n",
              "[13000 rows x 29 columns]"
            ]
          },
          "execution_count": 2,
          "metadata": {},
          "output_type": "execute_result"
        }
      ],
      "execution_count": 2
    },
    {
      "cell_type": "markdown",
      "source": "* We will take 11,000 samples for training and validation and use 2,000 samples for testing.",
      "metadata": {
        "slideshow": {
          "slide_type": "slide"
        }
      }
    },
    {
      "cell_type": "code",
      "source": "X_train, X_test, y_train, y_test = train_test_split(higgs_data.iloc[:, 1:], \n                                                    higgs_data.iloc[:, 0], \n                                                    train_size=11000)",
      "metadata": {
        "slideshow": {
          "slide_type": "fragment"
        }
      },
      "outputs": [],
      "execution_count": 3
    },
    {
      "cell_type": "markdown",
      "source": "* We will ensure that attribute values ​​have a mean of zero and a variance of one.",
      "metadata": {
        "slideshow": {
          "slide_type": "slide"
        }
      }
    },
    {
      "cell_type": "code",
      "source": "normalizer = layers.Normalization()\nnormalizer.adapt(np.array(X_train))",
      "metadata": {
        "slideshow": {
          "slide_type": "fragment"
        }
      },
      "outputs": [
        {
          "name": "stderr",
          "output_type": "stream",
          "text": [
            "2022-03-17 15:54:13.209026: I tensorflow/core/platform/cpu_feature_guard.cc:151] This TensorFlow binary is optimized with oneAPI Deep Neural Network Library (oneDNN) to use the following CPU instructions in performance-critical operations:  AVX2 FMA\n",
            "To enable them in other operations, rebuild TensorFlow with the appropriate compiler flags.\n"
          ]
        }
      ],
      "execution_count": 4
    },
    {
      "cell_type": "markdown",
      "source": "* In our model we will use an activation function that we have never seen before, the Exponential Linear Unit, ELU (Exponential Linear Unit):\n\n$$\n  f(x) = \n  \\begin{cases} \n   x &  x > 0 \\\\\n   \\alpha (e^{x} - 1) &  x \\le 0\n  \\end{cases}\n$$\n\n* ELU differs from ReLU in that it is smoother near the zero point and in addition can give a negative output.",
      "metadata": {
        "slideshow": {
          "slide_type": "slide"
        }
      }
    },
    {
      "cell_type": "code",
      "source": "plt.rcParams[\"text.usetex\"] = True\n\nelu_label = (\n    r\"\\begin{eqnarray*}\"\n    r\"f(x) &=& x \\quad x > 0 \\\\\"\n    r\"f(x) &=& \\alpha (e^{x} - 1)\\quad  x \\le 0\"\n    r\"\\end{eqnarray*}\"\n)\nfig = plt.figure(figsize=(8, 6))\nax = plt.axes()\nax.spines['right'].set_visible(False)\nax.spines['top'].set_visible(False)\nplt.xlim((-5, 5))\nplt.xticks(np.arange(-5, 6, 1))\nx = np.linspace(-5, 5, 100)\ny = np.zeros_like(x)\ny = x.copy()\nalpha = 1\ny[0:50] = alpha * (np.exp(x[0:50]) - 1)\nax.text(-4.5, 5, elu_label, color=\"k\", fontsize=16)\n_ = plt.plot(x, y)",
      "metadata": {
        "slideshow": {
          "slide_type": "slide"
        },
        "tags": [
          "remove_input"
        ]
      },
      "outputs": [
        {
          "data": {
            "image/png": "[encoded data removed]",
            "text/plain": [
              "<Figure size 576x432 with 1 Axes>"
            ]
          },
          "metadata": {
            "needs_background": "light"
          },
          "output_type": "display_data"
        }
      ],
      "execution_count": 5
    },
    {
      "cell_type": "markdown",
      "source": "* We will define the number of epochs, the size of each bin, and from there the number of training steps in each epoch.",
      "metadata": {
        "slideshow": {
          "slide_type": "slide"
        }
      }
    },
    {
      "cell_type": "code",
      "source": "NUM_EPOCHS = 10000\nBATCH_SIZE = 100\nSTEPS_PER_EPOCH = X_train.shape[0] // BATCH_SIZE",
      "metadata": {
        "slideshow": {
          "slide_type": "fragment"
        }
      },
      "outputs": [],
      "execution_count": 6
    },
    {
      "cell_type": "markdown",
      "source": "* An important hyperparameter in neural networks is the *learning rate*.\n\n* This defines how large the corrections made to weights and biases will be at each step of learning.\n\n* If the learning rate is large, then the corrections are large, and the network learns quickly.\n\n* On the other hand, it can be \"careless\": the corrections are so large that it deviates from the optimal values ​​of the weights and biases.\n\n* If the learning rate is small, then the corrections are smaller, the network learns more conservatively, and it takes longer to train.",
      "metadata": {
        "slideshow": {
          "slide_type": "slide"
        }
      }
    },
    {
      "cell_type": "markdown",
      "source": "* One way to approach this is to think about what happens in golf.\n\n* At the beginning the player is far from the hole and his strokes will be strong so that the ball will approach the hole quickly.\n\n* But when he gets closer to the hole, the player becomes more careful. If he keeps hitting the same way, the ball will just go the other way.",
      "metadata": {
        "slideshow": {
          "slide_type": "slide"
        }
      }
    },
    {
      "cell_type": "markdown",
      "source": "* If we use the Adam optimizer (or others), we can set a variable learning rate.\n\n* Specifically, we will define a *learning schedule* (learning schedule), in which the learning rate will gradually decrease.\n\n* The idea is that initially we want our neural network to learn quickly, but as training progresses we want it to become more careful.",
      "metadata": {
        "slideshow": {
          "slide_type": "slide"
        }
      }
    },
    {
      "cell_type": "markdown",
      "source": "* Using the `InverseTimeDecay` class we define that we will start with an initial learning rate and then every 100 epochs it will decrease so that at 100 epochs it becomes 1/2 of the original, at 200 1/3 of the original, and so on. Mr.",
      "metadata": {
        "slideshow": {
          "slide_type": "slide"
        }
      }
    },
    {
      "cell_type": "code",
      "source": "lr_schedule = tf.keras.optimizers.schedules.InverseTimeDecay(\n  0.001,\n  decay_steps=STEPS_PER_EPOCH * 100,\n  decay_rate=1,\n  staircase=False)",
      "metadata": {
        "slideshow": {
          "slide_type": "fragment"
        }
      },
      "outputs": [],
      "execution_count": 7
    },
    {
      "cell_type": "markdown",
      "source": "step = np.linspace(0,100000)\nlr = lr_schedule(step)\nplt.figure(figsize = (8,6))\nplt.plot(step/STEPS_PER_EPOCH, lr)\nplt.ylim([0,max(plt.ylim())])\nplt.xlabel('Epoch')\n_ = plt.ylabel('Learning Rate')",
      "metadata": {
        "slideshow": {
          "slide_type": "slide"
        }
      }
    },
    {
      "cell_type": "markdown",
      "source": "* We are now building our model, where we will use as in the original post layers of 300 neurons.\n\n* In the end we will have a layer with a sigmoid activation function, since we want classification between two classes.\n\n* The loss will be calculated through the `BinaryCrossentropy` class and as metrics we will have `BinaryAccuracy` and `BinaryCrossEntropy` (we will come back to this point later).",
      "metadata": {
        "slideshow": {
          "slide_type": "slide"
        }
      }
    },
    {
      "cell_type": "code",
      "source": "model = keras.Sequential([\n    normalizer,\n    layers.Dense(300, activation='elu'),\n    layers.Dense(300, activation='elu'),\n    layers.Dense(300, activation='elu'),    \n    layers.Dense(300, activation='elu'),\n    layers.Dense(300, activation='elu'),\n    layers.Dense(1, activation='sigmoid')\n])\n\nmodel.compile(loss=tf.keras.losses.BinaryCrossentropy(from_logits=False),\n              optimizer=tf.keras.optimizers.Adam(lr_schedule),\n              metrics=[\n                  tf.keras.losses.BinaryCrossentropy(from_logits=False, name='binary_crossentropy'),\n                  tf.metrics.BinaryAccuracy(threshold=0.5)\n              ])",
      "metadata": {
        "slideshow": {
          "slide_type": "fragment"
        }
      },
      "outputs": [],
      "execution_count": 9
    },
    {
      "cell_type": "markdown",
      "source": "* Let's see it briefly.",
      "metadata": {
        "slideshow": {
          "slide_type": "slide"
        }
      }
    },
    {
      "cell_type": "code",
      "source": "model.summary()",
      "metadata": {
        "slideshow": {
          "slide_type": "fragment"
        }
      },
      "outputs": [
        {
          "name": "stdout",
          "output_type": "stream",
          "text": [
            "Model: \"sequential\"\n",
            "_________________________________________________________________\n",
            " Layer (type)                Output Shape              Param #   \n",
            "=================================================================\n",
            " normalization (Normalizatio  (None, 28)               57        \n",
            " n)                                                              \n",
            "                                                                 \n",
            " dense (Dense)               (None, 300)               8700      \n",
            "                                                                 \n",
            " dense_1 (Dense)             (None, 300)               90300     \n",
            "                                                                 \n",
            " dense_2 (Dense)             (None, 300)               90300     \n",
            "                                                                 \n",
            " dense_3 (Dense)             (None, 300)               90300     \n",
            "                                                                 \n",
            " dense_4 (Dense)             (None, 300)               90300     \n",
            "                                                                 \n",
            " dense_5 (Dense)             (None, 1)                 301       \n",
            "                                                                 \n",
            "=================================================================\n",
            "Total params: 370,258\n",
            "Trainable params: 370,201\n",
            "Non-trainable params: 57\n",
            "_________________________________________________________________\n"
          ]
        }
      ],
      "execution_count": 10
    },
    {
      "cell_type": "markdown",
      "source": "* We will train our model up to 10000 epochs.\n\n* Instead of showing progress per epoch (too many), we will display progress per 100 epochs, and each completed epoch will simply print a dot.\n\n* To do this we will define a class of our own that we will give to TensorFlow as a callback.",
      "metadata": {
        "slideshow": {
          "slide_type": "slide"
        }
      }
    },
    {
      "cell_type": "code",
      "source": "# From https://github.com/tensorflow/docs/blob/master/tools/tensorflow_docs/modeling/__init__.py\nclass EpochDots(tf.keras.callbacks.Callback):\n    \"\"\"A simple callback that prints a \".\" every epoch, with occasional reports.\n    \n    Args:\n        report_every: How many epochs between full reports\n        dot_every: How many epochs between dots.\n    \"\"\"\n\n    def __init__(self, report_every=100, dot_every=1):\n        self.report_every = report_every\n        self.dot_every = dot_every\n\n    def on_epoch_end(self, epoch, logs):\n        if epoch % self.report_every == 0:\n            print()\n            print('Epoch: {:d}, '.format(epoch), end='')\n            for name, value in sorted(logs.items()):\n                print('{}:{:0.4f}'.format(name, value), end=',  ')\n            print()\n\n        if epoch % self.dot_every == 0:\n            print('.', end='', flush=True)",
      "metadata": {
        "slideshow": {
          "slide_type": "slide"
        }
      },
      "outputs": [],
      "execution_count": 11
    },
    {
      "cell_type": "markdown",
      "source": "* And now we proceed to training.",
      "metadata": {
        "slideshow": {
          "slide_type": "slide"
        }
      }
    },
    {
      "cell_type": "code",
      "source": "early_stop = [\n    EpochDots(),\n    tf.keras.callbacks.EarlyStopping(monitor='val_binary_crossentropy', patience=200),\n]\n\nhistory = model.fit(\n    X_train, \n    y_train,\n    epochs=NUM_EPOCHS,\n    batch_size=BATCH_SIZE,\n    validation_split=0.1,\n    verbose=0,\n    callbacks=early_stop)",
      "metadata": {
        "slideshow": {
          "slide_type": "fragment"
        }
      },
      "outputs": [
        {
          "name": "stdout",
          "output_type": "stream",
          "text": [
            "\n",
            "Epoch: 0, binary_accuracy:0.6108,  binary_crossentropy:0.6605,  loss:0.6605,  val_binary_accuracy:0.6345,  val_binary_crossentropy:0.6304,  val_loss:0.6304,  \n",
            "....................................................................................................\n",
            "Epoch: 100, binary_accuracy:1.0000,  binary_crossentropy:0.0000,  loss:0.0000,  val_binary_accuracy:0.6764,  val_binary_crossentropy:2.8128,  val_loss:2.8128,  \n",
            "....................................................................................................\n",
            "Epoch: 200, binary_accuracy:1.0000,  binary_crossentropy:0.0000,  loss:0.0000,  val_binary_accuracy:0.6773,  val_binary_crossentropy:4.0083,  val_loss:4.0083,  \n",
            "..........."
          ]
        }
      ],
      "execution_count": 12
    },
    {
      "cell_type": "markdown",
      "source": "* We can see the progress if we make a helper function for the visualization.",
      "metadata": {
        "slideshow": {
          "slide_type": "slide"
        }
      }
    },
    {
      "cell_type": "code",
      "source": "def plot_loss(history):\n    plt.plot(history.history['binary_crossentropy'], label='training')\n    plt.plot(history.history['val_binary_crossentropy'], label='validation')\n    plt.xlabel('Epoch')\n    plt.ylabel('Binary Crossentropy')\n    plt.legend()\n    plt.grid(True)",
      "metadata": {
        "slideshow": {
          "slide_type": "fragment"
        }
      },
      "outputs": [],
      "execution_count": 13
    },
    {
      "cell_type": "code",
      "source": "plot_loss(history)",
      "metadata": {
        "slideshow": {
          "slide_type": "slide"
        }
      },
      "outputs": [
        {
          "data": {
            "image/png": "[encoded data removed]",
            "text/plain": [
              "<Figure size 432x288 with 1 Axes>"
            ]
          },
          "metadata": {
            "needs_background": "light"
          },
          "output_type": "display_data"
        }
      ],
      "execution_count": 14
    },
    {
      "cell_type": "markdown",
      "source": "* The results are a tragedy.\n\n* Very quickly the loss in validation shoots up.\n\n* This is a clear indication of overfitting.",
      "metadata": {
        "slideshow": {
          "slide_type": "slide"
        }
      }
    },
    {
      "cell_type": "markdown",
      "source": "* One way to combat underfitting in neural networks is through *dropout*.\n\n* The [idea behind dropout](https://en.wikipedia.org/wiki/Convolutional_neural_network#Dropout) is that at each training step, nodes are \"dropped\" with probability $p$ or retained with probability $1 - p$.\n\n* In practice, that is, we harvest from the neural network the nodes with probability $p$.\n\n* In the next step of training, the nodes to be discarded are again randomly selected, so some will be re-entered and some others will be exited.",
      "metadata": {
        "slideshow": {
          "slide_type": "slide"
        }
      }
    },
    {
      "cell_type": "code",
      "source": "model = keras.Sequential([\n    normalizer,\n    layers.Dense(300, input_shape=(X_train.shape[1],), activation='elu'),\n    layers.Dropout(0.5),\n    layers.Dense(300, activation='elu'),\n    layers.Dropout(0.5),    \n    layers.Dense(300, activation='elu'),\n    layers.Dropout(0.5),    \n    layers.Dense(300, activation='elu'),\n    layers.Dropout(0.5),    \n    layers.Dense(300, activation='elu'),\n    layers.Dropout(0.5),    \n    layers.Dense(1, activation='sigmoid')\n])\n\nmodel.compile(loss=tf.keras.losses.BinaryCrossentropy(from_logits=False),\n              optimizer=tf.keras.optimizers.Adam(lr_schedule),\n              metrics=[\n                  tf.keras.losses.BinaryCrossentropy(from_logits=False, name='binary_crossentropy'),\n                  tf.metrics.BinaryAccuracy(threshold=0.5)\n              ])",
      "metadata": {
        "slideshow": {
          "slide_type": "slide"
        }
      },
      "outputs": [],
      "execution_count": 15
    },
    {
      "cell_type": "code",
      "source": "history = model.fit(\n    X_train, \n    y_train,\n    epochs=NUM_EPOCHS,\n    batch_size=BATCH_SIZE,\n    validation_split=0.1,\n    verbose=0,\n    callbacks=early_stop)",
      "metadata": {
        "slideshow": {
          "slide_type": "slide"
        }
      },
      "outputs": [
        {
          "name": "stdout",
          "output_type": "stream",
          "text": [
            "\n",
            "Epoch: 0, binary_accuracy:0.5403,  binary_crossentropy:0.7985,  loss:0.7985,  val_binary_accuracy:0.6009,  val_binary_crossentropy:0.6457,  val_loss:0.6457,  \n",
            "....................................................................................................\n",
            "Epoch: 100, binary_accuracy:0.7028,  binary_crossentropy:0.5649,  loss:0.5649,  val_binary_accuracy:0.7100,  val_binary_crossentropy:0.5590,  val_loss:0.5590,  \n",
            "....................................................................................................\n",
            "Epoch: 200, binary_accuracy:0.7251,  binary_crossentropy:0.5310,  loss:0.5310,  val_binary_accuracy:0.7018,  val_binary_crossentropy:0.5690,  val_loss:0.5690,  \n",
            "................................................................................."
          ]
        }
      ],
      "execution_count": 16
    },
    {
      "cell_type": "markdown",
      "source": "* We see that the situation has somewhat improved.",
      "metadata": {
        "slideshow": {
          "slide_type": "slide"
        }
      }
    },
    {
      "cell_type": "code",
      "source": "plot_loss(history)",
      "metadata": {
        "slideshow": {
          "slide_type": "fragment"
        }
      },
      "outputs": [
        {
          "data": {
            "image/png": "[encoded data removed]",
            "text/plain": [
              "<Figure size 432x288 with 1 Axes>"
            ]
          },
          "metadata": {
            "needs_background": "light"
          },
          "output_type": "display_data"
        }
      ],
      "execution_count": 17
    },
    {
      "cell_type": "markdown",
      "source": "* Another idea to avoid overfitting is *normalization* (regularization).\n\n* In this approach, we reduce the weights to zero.\n\n* The reason is that the fewer weights in the final model, the fewer parameters we have in the end, so the leaner the final model is.",
      "metadata": {
        "slideshow": {
          "slide_type": "slide"
        }
      }
    },
    {
      "cell_type": "markdown",
      "source": "* In L1 normalization, we add to the loss an amount proportional to the absolute value of each weight. The result is that some weights are zeroed out.\n\n* In L2 normalization, we add to the loss an amount proportional to the square of each weight. The result is to minimize (but not completely eliminate) some weights.",
      "metadata": {
        "slideshow": {
          "slide_type": "slide"
        }
      }
    },
    {
      "cell_type": "markdown",
      "source": "* In particular, if we use `regularizers.l2(0.001)`, as below, each weight will add $0{,}001 \\times w^2$ to the network loss.\n\n* This is also why we track the `binary_crossentropy` metric and not just the loss, because we don't want to consider normalization.\n\n* Now in output, `binary_crossentropy`, `val_binary_cross_entropy` will differ from `loss` and `val_loss`.",
      "metadata": {}
    },
    {
      "cell_type": "code",
      "source": "model = keras.Sequential([\n    normalizer,\n    layers.Dense(300, input_shape=(X_train.shape[1],),\n                 kernel_regularizer=regularizers.l2(0.001),\n                 activation='elu'),\n    layers.Dense(300,\n                 kernel_regularizer=regularizers.l2(0.001),\n                 activation='elu'),\n    layers.Dense(300,\n                 kernel_regularizer=regularizers.l2(0.001),\n                 activation='elu'),\n    layers.Dense(300,\n                 kernel_regularizer=regularizers.l2(0.001),\n                 activation='elu'),\n    layers.Dense(300,\n                 kernel_regularizer=regularizers.l2(0.001),\n                 activation='elu'),\n    layers.Dense(1, activation='sigmoid')\n])\n\nmodel.compile(loss=tf.keras.losses.BinaryCrossentropy(from_logits=False),\n              optimizer=tf.keras.optimizers.Adam(lr_schedule),\n              metrics=[\n                  tf.keras.losses.BinaryCrossentropy(from_logits=False, name='binary_crossentropy'),\n                  tf.metrics.BinaryAccuracy(threshold=0.5)\n              ])",
      "metadata": {
        "slideshow": {
          "slide_type": "slide"
        }
      },
      "outputs": [],
      "execution_count": 18
    },
    {
      "cell_type": "code",
      "source": "history = model.fit(\n    X_train, \n    y_train,\n    epochs=NUM_EPOCHS,\n    batch_size=BATCH_SIZE,\n    validation_split=0.1,\n    verbose=0,\n    callbacks=early_stop)",
      "metadata": {
        "slideshow": {
          "slide_type": "slide"
        }
      },
      "outputs": [
        {
          "name": "stdout",
          "output_type": "stream",
          "text": [
            "\n",
            "Epoch: 0, binary_accuracy:0.6091,  binary_crossentropy:0.6573,  loss:1.6072,  val_binary_accuracy:0.6527,  val_binary_crossentropy:0.6129,  val_loss:1.2987,  \n",
            "....................................................................................................\n",
            "Epoch: 100, binary_accuracy:0.7159,  binary_crossentropy:0.5559,  loss:0.5803,  val_binary_accuracy:0.7136,  val_binary_crossentropy:0.5623,  val_loss:0.5866,  \n",
            "....................................................................................................\n",
            "Epoch: 200, binary_accuracy:0.7296,  binary_crossentropy:0.5328,  loss:0.5600,  val_binary_accuracy:0.7064,  val_binary_crossentropy:0.5754,  val_loss:0.6024,  \n",
            "....................................................................................................\n",
            "Epoch: 300, binary_accuracy:0.7384,  binary_crossentropy:0.5164,  loss:0.5456,  val_binary_accuracy:0.7064,  val_binary_crossentropy:0.5826,  val_loss:0.6115,  \n",
            "............................."
          ]
        }
      ],
      "execution_count": 19
    },
    {
      "cell_type": "markdown",
      "source": "* We see that normalization can also help.",
      "metadata": {
        "slideshow": {
          "slide_type": "slide"
        }
      }
    },
    {
      "cell_type": "code",
      "source": "plot_loss(history)",
      "metadata": {
        "slideshow": {
          "slide_type": "fragment"
        }
      },
      "outputs": [
        {
          "data": {
            "image/png": "[encoded data removed]",
            "text/plain": [
              "<Figure size 432x288 with 1 Axes>"
            ]
          },
          "metadata": {
            "needs_background": "light"
          },
          "output_type": "display_data"
        }
      ],
      "execution_count": 20
    },
    {
      "cell_type": "markdown",
      "source": "* So the next logical step is to combine both methods to avoid overfitting.",
      "metadata": {
        "slideshow": {
          "slide_type": "slide"
        }
      }
    },
    {
      "cell_type": "code",
      "source": "model = keras.Sequential([\n    normalizer,\n    layers.Dense(300, input_shape=(X_train.shape[1],),\n                 kernel_regularizer=regularizers.l2(0.001),\n                 activation='elu'),\n    layers.Dropout(0.5),\n    layers.Dense(300,\n                 kernel_regularizer=regularizers.l2(0.001),\n                 activation='elu'),\n    layers.Dropout(0.5),    \n    layers.Dense(300,\n                 kernel_regularizer=regularizers.l2(0.001),\n                 activation='elu'),\n    layers.Dropout(0.5),    \n    layers.Dense(300,\n                 kernel_regularizer=regularizers.l2(0.001),\n                 activation='elu'),\n    layers.Dropout(0.5),    \n    layers.Dense(300,\n                 kernel_regularizer=regularizers.l2(0.001),\n                 activation='elu'),\n    layers.Dropout(0.5),    \n    layers.Dense(1, activation='sigmoid')\n])\n\nmodel.compile(loss=tf.keras.losses.BinaryCrossentropy(from_logits=False),\n              optimizer=tf.keras.optimizers.Adam(lr_schedule),\n              metrics=[\n                  tf.keras.losses.BinaryCrossentropy(from_logits=False, name='binary_crossentropy'),\n                  tf.metrics.BinaryAccuracy(threshold=0.5)\n              ])",
      "metadata": {
        "slideshow": {
          "slide_type": "fragment"
        }
      },
      "outputs": [],
      "execution_count": 21
    },
    {
      "cell_type": "code",
      "source": "history = model.fit(\n    X_train, \n    y_train,\n    epochs=NUM_EPOCHS,\n    batch_size=BATCH_SIZE,\n    validation_split=0.1,\n    verbose=0,\n    callbacks=early_stop)",
      "metadata": {
        "slideshow": {
          "slide_type": "slide"
        }
      },
      "outputs": [
        {
          "name": "stdout",
          "output_type": "stream",
          "text": [
            "\n",
            "Epoch: 0, binary_accuracy:0.5331,  binary_crossentropy:0.7987,  loss:1.9778,  val_binary_accuracy:0.5973,  val_binary_crossentropy:0.6548,  val_loss:1.7612,  \n",
            "....................................................................................................\n",
            "Epoch: 100, binary_accuracy:0.6637,  binary_crossentropy:0.6170,  loss:0.6461,  val_binary_accuracy:0.6682,  val_binary_crossentropy:0.5974,  val_loss:0.6261,  \n",
            "....................................................................................................\n",
            "Epoch: 200, binary_accuracy:0.6684,  binary_crossentropy:0.6141,  loss:0.6409,  val_binary_accuracy:0.6745,  val_binary_crossentropy:0.5999,  val_loss:0.6268,  \n",
            "....................................................................................................\n",
            "Epoch: 300, binary_accuracy:0.6737,  binary_crossentropy:0.6140,  loss:0.6398,  val_binary_accuracy:0.6700,  val_binary_crossentropy:0.5953,  val_loss:0.6206,  \n",
            "......................................................................."
          ]
        }
      ],
      "execution_count": 22
    },
    {
      "cell_type": "markdown",
      "source": "* We achieved even better behavior.",
      "metadata": {
        "slideshow": {
          "slide_type": "slide"
        }
      }
    },
    {
      "cell_type": "code",
      "source": "plot_loss(history)",
      "metadata": {
        "slideshow": {
          "slide_type": "fragment"
        }
      },
      "outputs": [
        {
          "data": {
            "image/png": "[encoded data removed]",
            "text/plain": [
              "<Figure size 432x288 with 1 Axes>"
            ]
          },
          "metadata": {
            "needs_background": "light"
          },
          "output_type": "display_data"
        }
      ],
      "execution_count": 23
    },
    {
      "cell_type": "markdown",
      "source": "* We can additionally evaluate our model based on control data.",
      "metadata": {
        "slideshow": {
          "slide_type": "slide"
        }
      }
    },
    {
      "cell_type": "code",
      "source": "metrics = model.evaluate(X_test, y_test, verbose=0)\nfor metric_name, metric in zip(model.metrics_names, metrics):\n    print(metric_name, metric)",
      "metadata": {
        "slideshow": {
          "slide_type": "fragment"
        }
      },
      "outputs": [
        {
          "name": "stdout",
          "output_type": "stream",
          "text": [
            "loss 0.6162694692611694\n",
            "binary_crossentropy 0.5913078188896179\n",
            "binary_accuracy 0.6830000281333923\n"
          ]
        }
      ],
      "execution_count": 24
    },
    {
      "cell_type": "markdown",
      "source": "* Applying the right strategy to avoid overfitting is a key ingredient to success in a neural network model.\n\n* Our tools allow us to stack layers upon layers.\n\n* This does not mean that this is how we will solve the problem.\n\n* We must always be careful to use properly the power given to us by the tools we have in our hands.",
      "metadata": {
        "slideshow": {
          "slide_type": "slide"
        }
      }
    }
  ]
}