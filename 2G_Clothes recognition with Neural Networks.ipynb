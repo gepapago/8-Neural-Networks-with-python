{
  "metadata": {
    "kernelspec": {
      "name": "python",
      "display_name": "Python (Pyodide)",
      "language": "python"
    },
    "language_info": {
      "codemirror_mode": {
        "name": "python",
        "version": 3
      },
      "file_extension": ".py",
      "mimetype": "text/x-python",
      "name": "python",
      "nbconvert_exporter": "python",
      "pygments_lexer": "ipython3",
      "version": "3.8"
    },
    "celltoolbar": "Slideshow"
  },
  "nbformat_minor": 4,
  "nbformat": 4,
  "cells": [
    {
      "cell_type": "markdown",
      "source": "# Clothes recognition with Neural Networks",
      "metadata": {
        "slideshow": {
          "slide_type": "slide"
        }
      }
    },
    {
      "cell_type": "markdown",
      "source": "* Data is available from TensorFlow.",
      "metadata": {
        "slideshow": {
          "slide_type": "slide"
        }
      }
    },
    {
      "cell_type": "markdown",
      "source": "* Application of neural networks in the classification of the [MNIST](https://github.com/zalandoresearch/fashion-mnist) dataset.\n\n* Contains 70,000 gray and white images belonging to 10 clothing categories.\n\n* Each photo is 28x28 pixels.",
      "metadata": {
        "slideshow": {
          "slide_type": "slide"
        }
      }
    },
    {
      "cell_type": "code",
      "source": "fashion_mnist = keras.datasets.fashion_mnist\n\n(train_images, train_labels), (test_images, test_labels) = fashion_mnist.load_data()",
      "metadata": {
        "slideshow": {
          "slide_type": "fragment"
        }
      },
      "outputs": [],
      "execution_count": 2
    },
    {
      "cell_type": "markdown",
      "source": "* The tags are the class names.",
      "metadata": {
        "slideshow": {
          "slide_type": "slide"
        }
      }
    },
    {
      "cell_type": "markdown",
      "source": "| Label\t| Class |\n|-------|-------|\n|   0   | T-shirt/top |\n|   1   | Trouser |\n|   2   | Pullover |\n|   3   | Dress |\n|   4   | Coat |\n|   5   | Sandal |\n|   6   | Shirt |\n|   7   | Sneaker |\n|   8   | Bag |\n|   9   | Ankle boot |\n",
      "metadata": {
        "slideshow": {
          "slide_type": "fragment"
        }
      }
    },
    {
      "cell_type": "markdown",
      "source": "* We will store the class names in a list to have them available later.",
      "metadata": {
        "slideshow": {
          "slide_type": "slide"
        }
      }
    },
    {
      "cell_type": "code",
      "source": "class_names = ['T-shirt/top', 'Trouser', 'Pullover', 'Dress', 'Coat', \n               'Sandal', 'Shirt', 'Sneaker', 'Bag', 'Ankle boot']",
      "metadata": {
        "slideshow": {
          "slide_type": "fragment"
        }
      },
      "outputs": [],
      "execution_count": 3
    },
    {
      "cell_type": "markdown",
      "source": "* The training data is 60,000 images, each measuring 28x28 pixels.\n\n* There are also 60,000 tags, each from 0 to 9.",
      "metadata": {
        "slideshow": {
          "slide_type": "slide"
        }
      }
    },
    {
      "cell_type": "code",
      "source": "print(train_images.shape)\nprint(len(train_labels))\nprint(train_labels)",
      "metadata": {
        "slideshow": {
          "slide_type": "fragment"
        }
      },
      "outputs": [
        {
          "name": "stdout",
          "output_type": "stream",
          "text": [
            "(60000, 28, 28)\n",
            "60000\n",
            "[9 0 0 ... 3 0 5]\n"
          ]
        }
      ],
      "execution_count": 4
    },
    {
      "cell_type": "markdown",
      "source": "* The control data consists of 10,000 images, each 28x28 pixels.\n\n* And, of course, 10,000 tags.",
      "metadata": {
        "slideshow": {
          "slide_type": "slide"
        }
      }
    },
    {
      "cell_type": "code",
      "source": "print(test_images.shape)\nprint(len(test_labels))",
      "metadata": {
        "slideshow": {
          "slide_type": "fragment"
        }
      },
      "outputs": [
        {
          "name": "stdout",
          "output_type": "stream",
          "text": [
            "(10000, 28, 28)\n",
            "10000\n"
          ]
        }
      ],
      "execution_count": 5
    },
    {
      "cell_type": "markdown",
      "source": "* Let's look at a picture.\n\n* Pixel values ​​can range from 0 to 255.",
      "metadata": {
        "slideshow": {
          "slide_type": "slide"
        }
      }
    },
    {
      "cell_type": "code",
      "source": "fig = plt.figure()\nax = fig.add_subplot(1, 1, 1)\nax.margins(0, 0)  \nplt.imshow(train_images[0], \n           extent=(0, train_images[0].shape[0], train_images[0].shape[1], 0),\n           cmap=plt.cm.binary)\nplt.colorbar()\nplt.xlim(0, 28)\nplt.ylim(28, 0)\nminor_ticks = np.arange(0, 28, 1)\nax.set_xticks(minor_ticks, minor=True)\nax.set_yticks(minor_ticks, minor=True)\nax.grid(which='both')",
      "metadata": {
        "slideshow": {
          "slide_type": "fragment"
        },
        "tags": [
          "remove_input"
        ]
      },
      "outputs": [
        {
          "data": {
            "image/png": "[encoded data removed]",
            "text/plain": [
              "<Figure size 432x288 with 2 Axes>"
            ]
          },
          "metadata": {
            "needs_background": "light"
          },
          "output_type": "display_data"
        }
      ],
      "execution_count": 10
    },
    {
      "cell_type": "markdown",
      "source": "* Neural networks also don't like highly variable data, so we'll transform it to have values ​​between 0 and 1.",
      "metadata": {
        "slideshow": {
          "slide_type": "slide"
        }
      }
    },
    {
      "cell_type": "code",
      "source": "train_images = train_images / 255.0\n\ntest_images = test_images / 255.0",
      "metadata": {
        "slideshow": {
          "slide_type": "fragment"
        }
      },
      "outputs": [],
      "execution_count": 11
    },
    {
      "cell_type": "markdown",
      "source": "* To see the first 25 photos.",
      "metadata": {
        "slideshow": {
          "slide_type": "slide"
        }
      }
    },
    {
      "cell_type": "code",
      "source": "plt.figure(figsize=(10,10))\nfor i in range(25):\n    plt.subplot(5,5,i+1)\n    plt.xticks([])\n    plt.yticks([])\n    plt.grid(False)\n    plt.imshow(train_images[i], cmap=plt.cm.binary)\n    plt.xlabel(class_names[train_labels[i]])",
      "metadata": {
        "slideshow": {
          "slide_type": "fragment"
        },
        "tags": [
          "remove_input"
        ]
      },
      "outputs": [
        {
          "data": {
            "image/png": "[encoded data removed]",
            "text/plain": [
              "<Figure size 720x720 with 25 Axes>"
            ]
          },
          "metadata": {},
          "output_type": "display_data"
        }
      ],
      "execution_count": 12
    },
    {
      "cell_type": "markdown",
      "source": "* We will use a new activation function, the *rectifier* (rectifier):\n$$ f(x)=x^{+}=\\max(0,x)$$\n\n* A neuron, or *unit* (unit) that uses the rectifier is called a *rectified linear unit*, or simply ReLU.\n\n* Sometimes we use a smooth approximation of , the function *softplus*:\n$$f(x)=\\log(1+ e^{x})$$",
      "metadata": {
        "slideshow": {
          "slide_type": "slide"
        }
      }
    },
    {
      "cell_type": "code",
      "source": "fig = plt.figure(figsize=(8, 6))\nax = plt.axes()\nax.spines['right'].set_visible(False)\nax.spines['top'].set_visible(False)\nplt.xlim((-5, 5))\nplt.xticks(np.arange(-5, 6, 1))\nx = np.linspace(-5, 0, 50)\ny = np.zeros_like(x)\nplt.plot(x, y, color='blue')\nx = np.linspace(0, 5, 50)\ny = x\nrelu, = plt.plot(x, y, color='blue', label=r\"$f(x) = \\max(0, x)$\")\nx = np.linspace(-5, 5, 100)\ny = np.log(1 + np.exp(x))\nsoftplus, = plt.plot(x, y, label=r\"$f(x) = \\log(1 + e^{x})$\")\nplt.legend(handles=[relu, softplus], loc='best')",
      "metadata": {
        "slideshow": {
          "slide_type": "slide"
        },
        "tags": [
          "remove_input"
        ]
      },
      "outputs": [
        {
          "data": {
            "text/plain": [
              "<matplotlib.legend.Legend at 0x14c4e4fd0>"
            ]
          },
          "execution_count": 13,
          "metadata": {},
          "output_type": "execute_result"
        },
        {
          "data": {
            "image/png": "[encoded data removed]",
            "text/plain": [
              "<Figure size 576x432 with 1 Axes>"
            ]
          },
          "metadata": {
            "needs_background": "light"
          },
          "output_type": "display_data"
        }
      ],
      "execution_count": 13
    },
    {
      "cell_type": "markdown",
      "source": "* Now let's set up our model.\n\n* It will consist of three layers.\n\n* The first layer after the input will convert the input from 28x28 arrays to one-dimensional arrays of 784 pixels.\n\n* The second layer will be densely bonded. It will have 128 nodes (neurons), which will be ReLU.\n\n* The third layer will again be densely connected and will not have an activation function.\n\n* So the activation will be linear, $a(x) = x$, and the neuron will simply give the weighted input plus the bias.",
      "metadata": {
        "slideshow": {
          "slide_type": "slide"
        }
      }
    },
    {
      "cell_type": "code",
      "source": "model = keras.Sequential([\n    keras.layers.Flatten(input_shape=(28, 28)),\n    keras.layers.Dense(128, activation=tf.nn.relu),\n    keras.layers.Dense(10)\n])",
      "metadata": {
        "slideshow": {
          "slide_type": "fragment"
        }
      },
      "outputs": [
        {
          "name": "stderr",
          "output_type": "stream",
          "text": [
            "2022-03-01 12:22:01.017153: I tensorflow/core/platform/cpu_feature_guard.cc:151] This TensorFlow binary is optimized with oneAPI Deep Neural Network Library (oneDNN) to use the following CPU instructions in performance-critical operations:  AVX2 FMA\n",
            "To enable them in other operations, rebuild TensorFlow with the appropriate compiler flags.\n"
          ]
        }
      ],
      "execution_count": 14
    },
    {
      "cell_type": "markdown",
      "source": "* With the `summary()` method we can see the network in table form.",
      "metadata": {
        "slideshow": {
          "slide_type": "slide"
        }
      }
    },
    {
      "cell_type": "code",
      "source": "model.summary()",
      "metadata": {
        "slideshow": {
          "slide_type": "fragment"
        }
      },
      "outputs": [
        {
          "name": "stdout",
          "output_type": "stream",
          "text": [
            "Model: \"sequential\"\n",
            "_________________________________________________________________\n",
            " Layer (type)                Output Shape              Param #   \n",
            "=================================================================\n",
            " flatten (Flatten)           (None, 784)               0         \n",
            "                                                                 \n",
            " dense (Dense)               (None, 128)               100480    \n",
            "                                                                 \n",
            " dense_1 (Dense)             (None, 10)                1290      \n",
            "                                                                 \n",
            "=================================================================\n",
            "Total params: 101,770\n",
            "Trainable params: 101,770\n",
            "Non-trainable params: 0\n",
            "_________________________________________________________________\n"
          ]
        }
      ],
      "execution_count": 15
    },
    {
      "cell_type": "markdown",
      "source": "* Alternatively, we can see it graphically.\n\n* The input to the first layer and the `Flatten' layer is 3D. This is because the data comes in bundles, but the size of the bundle will be known at runtime, so it appears as `None`.",
      "metadata": {
        "slideshow": {
          "slide_type": "slide"
        }
      }
    },
    {
      "cell_type": "code",
      "source": "from IPython.display import SVG\nfrom tensorflow.keras.utils import model_to_dot\nSVG(model_to_dot(model, show_shapes=True, dpi=70).create(prog='dot', format='svg'))",
      "metadata": {
        "slideshow": {
          "slide_type": "slide"
        }
      },
      "outputs": [
        {
          "data": {
            "image/svg+xml": [
              "<svg xmlns=\"http://www.w3.org/2000/svg\" xmlns:xlink=\"http://www.w3.org/1999/xlink\" width=\"351pt\" height=\"296pt\" viewBox=\"0.00 0.00 361.00 304.00\">\n",
              "<g id=\"graph0\" class=\"graph\" transform=\"scale(0.97 0.97) rotate(0) translate(4 300)\">\n",
              "<title>G</title>\n",
              "<polygon fill=\"white\" stroke=\"transparent\" points=\"-4,4 -4,-300 357,-300 357,4 -4,4\"/>\n",
              "<!-- 5576430880 -->\n",
              "<g id=\"node1\" class=\"node\">\n",
              "<title>5576430880</title>\n",
              "<polygon fill=\"none\" stroke=\"black\" points=\"0,-249.5 0,-295.5 353,-295.5 353,-249.5 0,-249.5\"/>\n",
              "<text text-anchor=\"middle\" x=\"43\" y=\"-280.3\" font-family=\"Times,serif\" font-size=\"14.00\">flatten_input</text>\n",
              "<polyline fill=\"none\" stroke=\"black\" points=\"0,-272.5 86,-272.5 \"/>\n",
              "<text text-anchor=\"middle\" x=\"43\" y=\"-257.3\" font-family=\"Times,serif\" font-size=\"14.00\">InputLayer</text>\n",
              "<polyline fill=\"none\" stroke=\"black\" points=\"86,-249.5 86,-295.5 \"/>\n",
              "<text text-anchor=\"middle\" x=\"113.5\" y=\"-280.3\" font-family=\"Times,serif\" font-size=\"14.00\">input:</text>\n",
              "<polyline fill=\"none\" stroke=\"black\" points=\"86,-272.5 141,-272.5 \"/>\n",
              "<text text-anchor=\"middle\" x=\"113.5\" y=\"-257.3\" font-family=\"Times,serif\" font-size=\"14.00\">output:</text>\n",
              "<polyline fill=\"none\" stroke=\"black\" points=\"141,-249.5 141,-295.5 \"/>\n",
              "<text text-anchor=\"middle\" x=\"194\" y=\"-268.8\" font-family=\"Times,serif\" font-size=\"14.00\">[(None, 28, 28)]</text>\n",
              "<polyline fill=\"none\" stroke=\"black\" points=\"247,-249.5 247,-295.5 \"/>\n",
              "<text text-anchor=\"middle\" x=\"300\" y=\"-268.8\" font-family=\"Times,serif\" font-size=\"14.00\">[(None, 28, 28)]</text>\n",
              "</g>\n",
              "<!-- 5575585024 -->\n",
              "<g id=\"node2\" class=\"node\">\n",
              "<title>5575585024</title>\n",
              "<polygon fill=\"none\" stroke=\"black\" points=\"32,-166.5 32,-212.5 321,-212.5 321,-166.5 32,-166.5\"/>\n",
              "<text text-anchor=\"middle\" x=\"59\" y=\"-197.3\" font-family=\"Times,serif\" font-size=\"14.00\">flatten</text>\n",
              "<polyline fill=\"none\" stroke=\"black\" points=\"32,-189.5 86,-189.5 \"/>\n",
              "<text text-anchor=\"middle\" x=\"59\" y=\"-174.3\" font-family=\"Times,serif\" font-size=\"14.00\">Flatten</text>\n",
              "<polyline fill=\"none\" stroke=\"black\" points=\"86,-166.5 86,-212.5 \"/>\n",
              "<text text-anchor=\"middle\" x=\"113.5\" y=\"-197.3\" font-family=\"Times,serif\" font-size=\"14.00\">input:</text>\n",
              "<polyline fill=\"none\" stroke=\"black\" points=\"86,-189.5 141,-189.5 \"/>\n",
              "<text text-anchor=\"middle\" x=\"113.5\" y=\"-174.3\" font-family=\"Times,serif\" font-size=\"14.00\">output:</text>\n",
              "<polyline fill=\"none\" stroke=\"black\" points=\"141,-166.5 141,-212.5 \"/>\n",
              "<text text-anchor=\"middle\" x=\"189.5\" y=\"-185.8\" font-family=\"Times,serif\" font-size=\"14.00\">(None, 28, 28)</text>\n",
              "<polyline fill=\"none\" stroke=\"black\" points=\"238,-166.5 238,-212.5 \"/>\n",
              "<text text-anchor=\"middle\" x=\"279.5\" y=\"-185.8\" font-family=\"Times,serif\" font-size=\"14.00\">(None, 784)</text>\n",
              "</g>\n",
              "<!-- 5576430880&#45;&gt;5575585024 -->\n",
              "<g id=\"edge1\" class=\"edge\">\n",
              "<title>5576430880-&gt;5575585024</title>\n",
              "<path fill=\"none\" stroke=\"black\" d=\"M176.5,-249.37C176.5,-241.15 176.5,-231.66 176.5,-222.73\"/>\n",
              "<polygon fill=\"black\" stroke=\"black\" points=\"180,-222.61 176.5,-212.61 173,-222.61 180,-222.61\"/>\n",
              "</g>\n",
              "<!-- 5575701168 -->\n",
              "<g id=\"node3\" class=\"node\">\n",
              "<title>5575701168</title>\n",
              "<polygon fill=\"none\" stroke=\"black\" points=\"41,-83.5 41,-129.5 312,-129.5 312,-83.5 41,-83.5\"/>\n",
              "<text text-anchor=\"middle\" x=\"66\" y=\"-114.3\" font-family=\"Times,serif\" font-size=\"14.00\">dense</text>\n",
              "<polyline fill=\"none\" stroke=\"black\" points=\"41,-106.5 91,-106.5 \"/>\n",
              "<text text-anchor=\"middle\" x=\"66\" y=\"-91.3\" font-family=\"Times,serif\" font-size=\"14.00\">Dense</text>\n",
              "<polyline fill=\"none\" stroke=\"black\" points=\"91,-83.5 91,-129.5 \"/>\n",
              "<text text-anchor=\"middle\" x=\"118.5\" y=\"-114.3\" font-family=\"Times,serif\" font-size=\"14.00\">input:</text>\n",
              "<polyline fill=\"none\" stroke=\"black\" points=\"91,-106.5 146,-106.5 \"/>\n",
              "<text text-anchor=\"middle\" x=\"118.5\" y=\"-91.3\" font-family=\"Times,serif\" font-size=\"14.00\">output:</text>\n",
              "<polyline fill=\"none\" stroke=\"black\" points=\"146,-83.5 146,-129.5 \"/>\n",
              "<text text-anchor=\"middle\" x=\"187.5\" y=\"-102.8\" font-family=\"Times,serif\" font-size=\"14.00\">(None, 784)</text>\n",
              "<polyline fill=\"none\" stroke=\"black\" points=\"229,-83.5 229,-129.5 \"/>\n",
              "<text text-anchor=\"middle\" x=\"270.5\" y=\"-102.8\" font-family=\"Times,serif\" font-size=\"14.00\">(None, 128)</text>\n",
              "</g>\n",
              "<!-- 5575585024&#45;&gt;5575701168 -->\n",
              "<g id=\"edge2\" class=\"edge\">\n",
              "<title>5575585024-&gt;5575701168</title>\n",
              "<path fill=\"none\" stroke=\"black\" d=\"M176.5,-166.37C176.5,-158.15 176.5,-148.66 176.5,-139.73\"/>\n",
              "<polygon fill=\"black\" stroke=\"black\" points=\"180,-139.61 176.5,-129.61 173,-139.61 180,-139.61\"/>\n",
              "</g>\n",
              "<!-- 5576429728 -->\n",
              "<g id=\"node4\" class=\"node\">\n",
              "<title>5576429728</title>\n",
              "<polygon fill=\"none\" stroke=\"black\" points=\"39,-0.5 39,-46.5 314,-46.5 314,-0.5 39,-0.5\"/>\n",
              "<text text-anchor=\"middle\" x=\"69.5\" y=\"-31.3\" font-family=\"Times,serif\" font-size=\"14.00\">dense_1</text>\n",
              "<polyline fill=\"none\" stroke=\"black\" points=\"39,-23.5 100,-23.5 \"/>\n",
              "<text text-anchor=\"middle\" x=\"69.5\" y=\"-8.3\" font-family=\"Times,serif\" font-size=\"14.00\">Dense</text>\n",
              "<polyline fill=\"none\" stroke=\"black\" points=\"100,-0.5 100,-46.5 \"/>\n",
              "<text text-anchor=\"middle\" x=\"127.5\" y=\"-31.3\" font-family=\"Times,serif\" font-size=\"14.00\">input:</text>\n",
              "<polyline fill=\"none\" stroke=\"black\" points=\"100,-23.5 155,-23.5 \"/>\n",
              "<text text-anchor=\"middle\" x=\"127.5\" y=\"-8.3\" font-family=\"Times,serif\" font-size=\"14.00\">output:</text>\n",
              "<polyline fill=\"none\" stroke=\"black\" points=\"155,-0.5 155,-46.5 \"/>\n",
              "<text text-anchor=\"middle\" x=\"196.5\" y=\"-19.8\" font-family=\"Times,serif\" font-size=\"14.00\">(None, 128)</text>\n",
              "<polyline fill=\"none\" stroke=\"black\" points=\"238,-0.5 238,-46.5 \"/>\n",
              "<text text-anchor=\"middle\" x=\"276\" y=\"-19.8\" font-family=\"Times,serif\" font-size=\"14.00\">(None, 10)</text>\n",
              "</g>\n",
              "<!-- 5575701168&#45;&gt;5576429728 -->\n",
              "<g id=\"edge3\" class=\"edge\">\n",
              "<title>5575701168-&gt;5576429728</title>\n",
              "<path fill=\"none\" stroke=\"black\" d=\"M176.5,-83.37C176.5,-75.15 176.5,-65.66 176.5,-56.73\"/>\n",
              "<polygon fill=\"black\" stroke=\"black\" points=\"180,-56.61 176.5,-46.61 173,-56.61 180,-56.61\"/>\n",
              "</g>\n",
              "</g>\n",
              "</svg>"
            ],
            "text/plain": [
              "<IPython.core.display.SVG object>"
            ]
          },
          "execution_count": 16,
          "metadata": {},
          "output_type": "execute_result"
        }
      ],
      "execution_count": 16
    },
    {
      "cell_type": "markdown",
      "source": "* We can confirm the number of parameters:\n\n * $784 \\times 128 = $100,352 weights between the `Flatten' layer and the next layer.\n\n * $128 \\times 10 = 1280$ weights between the hidden layer and the output layer.\n\n * $128$ polarizations in the hidden layer.\n\n * $10$ polarizations in the output layer.\n\n * Total: $100,352 + 1280 + 128 + 10 = $101,770",
      "metadata": {
        "slideshow": {
          "slide_type": "slide"
        }
      }
    },
    {
      "cell_type": "code",
      "source": "model.count_params()",
      "metadata": {
        "slideshow": {
          "slide_type": "fragment"
        }
      },
      "outputs": [
        {
          "data": {
            "text/plain": [
              "101770"
            ]
          },
          "execution_count": 37,
          "metadata": {},
          "output_type": "execute_result"
        }
      ],
      "execution_count": 37
    },
    {
      "cell_type": "markdown",
      "source": "* Now we can proceed to the definition:\n\n * Of the loss function.\n * The optimizer.\n * The metric evaluation.",
      "metadata": {
        "slideshow": {
          "slide_type": "slide"
        }
      }
    },
    {
      "cell_type": "markdown",
      "source": "* We want the loss function to estimate the error at the output of the network.\n\n* But what exactly is output?\n\n* It is a vector of 10 numbers, one for each neuron in the output layer.\n\n* Each of these numbers gives the network's belief that the input sample belongs to that class.",
      "metadata": {
        "slideshow": {
          "slide_type": "slide"
        }
      }
    },
    {
      "cell_type": "code",
      "source": "# As we have not trained the model yet, these are random values.\npredictions = model(train_images[:1]).numpy()\nprint(predictions)\nprint('min =', np.min(predictions), \n      'max =', np.max(predictions), \n      'sum =', np.sum(predictions))",
      "metadata": {
        "slideshow": {
          "slide_type": "fragment"
        }
      },
      "outputs": [
        {
          "name": "stdout",
          "output_type": "stream",
          "text": [
            "[[-0.07175021 -0.41611964 -0.27806014  0.8113954  -0.51662374  1.1836927\n",
            "   0.15438977 -0.25337994 -0.290061   -0.6870176 ]]\n",
            "min = -0.6870176 max = 1.1836927 sum = -0.36353445\n"
          ]
        }
      ],
      "execution_count": 18
    },
    {
      "cell_type": "markdown",
      "source": "* Our targets are also vectors with 10 numbers, e.g. if the garment is a boot:\n\n ```[0, 0, 0, 0, 0, 0, 0, 0, 0, 1]```\n\n* Each of these vectors has a value equal to 1 (the correct class), while the other values ​​are equal to 0.\n\n* This means that each target is actually a probability distribution, since it is a set of values ​​from zero to one that add up to one.",
      "metadata": {
        "slideshow": {
          "slide_type": "slide"
        }
      }
    },
    {
      "cell_type": "markdown",
      "source": "* So we want to transform the output of the network into a probability distribution.\n\n* It will be a vector with ten values, each between zero and one, that will add up to one.",
      "metadata": {
        "slideshow": {
          "slide_type": "slide"
        }
      }
    },
    {
      "cell_type": "markdown",
      "source": "* But at the moment the output of the network is not such a distribution.\n\n* It's just the output of the final layer neurons, which don't even have an activation function, so just a linear combination of the inputs.\n\n* Model predictions in this form are called *logits*.",
      "metadata": {
        "slideshow": {
          "slide_type": "slide"
        }
      }
    },
    {
      "cell_type": "markdown",
      "source": "* To transform the logits into a probability distribution we use the *softmax* function.\n\n* If we have $K$ classes, and $k$ neuron has $z_k$ output, the softmax function is defined as:\n$$\\sigma(z_{j}) = {\\frac {e^{z_{j}}}{\\sum _{k=1}^{K}e^{z_{k}}}}\\, , j = 1, 2, \\ldots, k$$",
      "metadata": {
        "slideshow": {
          "slide_type": "slide"
        }
      }
    },
    {
      "cell_type": "markdown",
      "source": "* In essence, softmax gives the inputs to the exponential function and normalizes.\n\n* The exponential function means that a unit increase in the input has a multiplicative effect on the output.\n\n* Conversely, if the input decreases, we get a fraction of the input at the output.\n\n* softmax divides by the sum of the exponential function on the inputs so that the result is between and one.",
      "metadata": {
        "slideshow": {
          "slide_type": "slide"
        }
      }
    },
    {
      "cell_type": "code",
      "source": "softmax_predictions = tf.nn.softmax(predictions).numpy()\nprint(softmax_predictions)\nprint('min =', np.min(softmax_predictions), \n      'max =', np.max(softmax_predictions), \n      'sum =', np.sum(softmax_predictions))",
      "metadata": {
        "slideshow": {
          "slide_type": "fragment"
        }
      },
      "outputs": [
        {
          "name": "stdout",
          "output_type": "stream",
          "text": [
            "[[0.0798526  0.05658891 0.06496654 0.19312313 0.05117796 0.2802341\n",
            "  0.10011528 0.06658988 0.06419155 0.04316004]]\n",
            "min = 0.043160036 max = 0.2802341 sum = 0.99999994\n"
          ]
        }
      ],
      "execution_count": 19
    },
    {
      "cell_type": "code",
      "source": "import matplotlib.pyplot as plt\nimport numpy as np\n\nimport tensorflow as tf\nfrom tensorflow import keras\nfrom tensorflow.keras import optimizers",
      "metadata": {
        "slideshow": {
          "slide_type": "slide"
        }
      },
      "outputs": [],
      "execution_count": 21
    },
    {
      "cell_type": "markdown",
      "source": "* In TensorFlow, we specify to use the result of softmax in the loss calculation by giving the `from_logits=True` parameter.\n\n* And the loss function we will use is implemented in the `SparseCategoricalCrossEntropy` class, so we will give `SparseCategoricalCrossEntropy(from_logits=True)`.",
      "metadata": {
        "slideshow": {
          "slide_type": "slide"
        }
      }
    },
    {
      "cell_type": "markdown",
      "source": "* We will define the optimizer, this time another one, the Adam optimizer (Adaptive Moment Estimation).\n\n* We give the loss as explained above, and the performance metric.",
      "metadata": {
        "slideshow": {
          "slide_type": "slide"
        }
      }
    },
    {
      "cell_type": "code",
      "source": "model.compile(\n    optimizer=optimizers.Adam(), \n    loss=tf.keras.losses.SparseCategoricalCrossentropy(from_logits=True),\n    metrics=['accuracy'])",
      "metadata": {
        "slideshow": {
          "slide_type": "fragment"
        }
      },
      "outputs": [],
      "execution_count": 22
    },
    {
      "cell_type": "markdown",
      "source": "* We proceed to the training.\n\n* We will leave `batch_size` at its default value, i.e. 32.\n\n* Each season will have $60,000 / 32 = $1875 in kits.",
      "metadata": {
        "slideshow": {
          "slide_type": "slide"
        }
      }
    },
    {
      "cell_type": "code",
      "source": "model.fit(train_images, train_labels, epochs=5)",
      "metadata": {
        "slideshow": {
          "slide_type": "fragment"
        }
      },
      "outputs": [
        {
          "name": "stdout",
          "output_type": "stream",
          "text": [
            "Epoch 1/5\n",
            "1875/1875 [==============================] - 2s 911us/step - loss: 0.5008 - accuracy: 0.8239\n",
            "Epoch 2/5\n",
            "1875/1875 [==============================] - 2s 936us/step - loss: 0.3754 - accuracy: 0.8645\n",
            "Epoch 3/5\n",
            "1875/1875 [==============================] - 2s 902us/step - loss: 0.3370 - accuracy: 0.8768\n",
            "Epoch 4/5\n",
            "1875/1875 [==============================] - 2s 900us/step - loss: 0.3128 - accuracy: 0.8860\n",
            "Epoch 5/5\n",
            "1875/1875 [==============================] - 2s 907us/step - loss: 0.2957 - accuracy: 0.8902\n"
          ]
        },
        {
          "data": {
            "text/plain": [
              "<keras.callbacks.History at 0x14c71ed60>"
            ]
          },
          "execution_count": 23,
          "metadata": {},
          "output_type": "execute_result"
        }
      ],
      "execution_count": 23
    },
    {
      "cell_type": "markdown",
      "source": "* We will check the system performance with the test data.\n\n* These will be read in $\\lceil1000 / 32\\rceil = 313$ batches.",
      "metadata": {
        "slideshow": {
          "slide_type": "slide"
        }
      }
    },
    {
      "cell_type": "code",
      "source": "test_loss, test_acc = model.evaluate(test_images, test_labels)\n\nprint('Test accuracy:', test_acc)",
      "metadata": {
        "slideshow": {
          "slide_type": "fragment"
        }
      },
      "outputs": [
        {
          "name": "stdout",
          "output_type": "stream",
          "text": [
            "313/313 [==============================] - 0s 667us/step - loss: 0.3493 - accuracy: 0.8695\n",
            "Test accuracy: 0.8694999814033508\n"
          ]
        }
      ],
      "execution_count": 24
    },
    {
      "cell_type": "markdown",
      "source": "* The results are as expected, in the sense that the correctness is lower than what we saw in training.\n\n* Essentially, in education we have reached overfitting.",
      "metadata": {
        "slideshow": {
          "slide_type": "slide"
        }
      }
    },
    {
      "cell_type": "markdown",
      "source": "* After training, we can use the network for predictions.\n\n* But, the output of the network is logits.\n\n* We will turn them into probabilities.\n\n* To do this, we take our original network and add a `SoftMax()` layer to it.",
      "metadata": {
        "slideshow": {
          "slide_type": "slide"
        }
      }
    },
    {
      "cell_type": "code",
      "source": "probability_model = tf.keras.Sequential([model, \n                                         tf.keras.layers.Softmax()])\npredictions = probability_model.predict(test_images)",
      "metadata": {
        "slideshow": {
          "slide_type": "fragment"
        }
      },
      "outputs": [],
      "execution_count": 25
    },
    {
      "cell_type": "markdown",
      "source": "* Now in the `predictions` variable we have the predictions for the control data.\n\n* To see the prediction for the first image:",
      "metadata": {
        "slideshow": {
          "slide_type": "slide"
        }
      }
    },
    {
      "cell_type": "code",
      "source": "predictions[0]",
      "metadata": {
        "slideshow": {
          "slide_type": "fragment"
        }
      },
      "outputs": [
        {
          "data": {
            "text/plain": [
              "array([1.00176003e-05, 9.51470014e-09, 1.51536597e-07, 2.66547119e-07,\n",
              "       3.32153945e-06, 7.48498132e-03, 1.28226575e-05, 2.84774974e-02,\n",
              "       6.08901355e-05, 9.63949978e-01], dtype=float32)"
            ]
          },
          "execution_count": 26,
          "metadata": {},
          "output_type": "execute_result"
        }
      ],
      "execution_count": 26
    },
    {
      "cell_type": "markdown",
      "source": "* Or, in percentages:",
      "metadata": {
        "slideshow": {
          "slide_type": "slide"
        }
      }
    },
    {
      "cell_type": "code",
      "source": "for i in predictions[0]:\n    print(f'{i:f}')",
      "metadata": {
        "slideshow": {
          "slide_type": "fragment"
        }
      },
      "outputs": [
        {
          "name": "stdout",
          "output_type": "stream",
          "text": [
            "0.000010\n",
            "0.000000\n",
            "0.000000\n",
            "0.000000\n",
            "0.000003\n",
            "0.007485\n",
            "0.000013\n",
            "0.028477\n",
            "0.000061\n",
            "0.963950\n"
          ]
        }
      ],
      "execution_count": 27
    },
    {
      "cell_type": "markdown",
      "source": "* The correct clothing is:",
      "metadata": {
        "slideshow": {
          "slide_type": "slide"
        }
      }
    },
    {
      "cell_type": "code",
      "source": "test_labels[0]",
      "metadata": {
        "slideshow": {
          "slide_type": "fragment"
        }
      },
      "outputs": [
        {
          "data": {
            "text/plain": [
              "9"
            ]
          },
          "execution_count": 28,
          "metadata": {},
          "output_type": "execute_result"
        }
      ],
      "execution_count": 28
    },
    {
      "cell_type": "markdown",
      "source": "* We will make a helper function which will show us the prediction and the target.\n\n* If the prediction matches the target, it will be blue. Otherwise, it will be red.",
      "metadata": {
        "slideshow": {
          "slide_type": "slide"
        },
        "tags": [
          "remove_cell"
        ]
      }
    },
    {
      "cell_type": "code",
      "source": "def plot_image(i, predictions, true_labels, img):\n    predictions_array, true_label, img = predictions[i], true_labels[i], img[i]\n    plt.grid(False)\n    plt.xticks([])\n    plt.yticks([])\n    \n    plt.imshow(img, cmap=plt.cm.binary)\n    \n    predicted_label = np.argmax(predictions_array)\n    \n    if predicted_label == true_label:\n        color = 'blue'\n    else:\n        color = 'red'\n  \n    plt.xlabel(\"{} {:2.0f}% ({})\".format(class_names[predicted_label],\n                                         100*np.max(predictions_array),\n                                         class_names[true_label]),\n                                         color=color)",
      "metadata": {
        "slideshow": {
          "slide_type": "slide"
        },
        "tags": [
          "remove_cell"
        ]
      },
      "outputs": [],
      "execution_count": 30
    },
    {
      "cell_type": "markdown",
      "source": "* We will also make another auxiliary function that will show us all the probabilities that the network gives for each image.",
      "metadata": {
        "slideshow": {
          "slide_type": "slide"
        },
        "tags": [
          "remove_cell"
        ]
      }
    },
    {
      "cell_type": "code",
      "source": "def plot_value_array(i, predictions, true_labels, show_xticks=False):\n    predictions_array, true_label = predictions[i], true_labels[i]\n    plt.grid(False)\n    plt.xticks([])\n    if show_xticks:\n        plt.xticks(range(10), class_names, rotation='vertical')\n    else:\n        plt.xticks([])\n    plt.yticks([])\n    thisplot = plt.bar(range(10), predictions_array, color=\"#777777\")\n    plt.ylim([0, 1]) \n    predicted_label = np.argmax(predictions_array)\n \n    thisplot[predicted_label].set_color('red')\n    thisplot[true_label].set_color('blue')",
      "metadata": {
        "slideshow": {
          "slide_type": "fragment"
        },
        "tags": [
          "remove_cell"
        ]
      },
      "outputs": [],
      "execution_count": 31
    },
    {
      "cell_type": "markdown",
      "source": "* Let's see what we get for the first image.",
      "metadata": {
        "slideshow": {
          "slide_type": "slide"
        }
      }
    },
    {
      "cell_type": "code",
      "source": "plt.figure(figsize=(6,3))\nplt.subplot(1,2,1)\nplot_image(0, predictions, test_labels, test_images)\n\nplt.subplot(1,2,2)\nplot_value_array(0, predictions, test_labels, True)",
      "metadata": {
        "slideshow": {
          "slide_type": "fragment"
        },
        "tags": [
          "remove_input"
        ]
      },
      "outputs": [
        {
          "data": {
            "image/png": "[encoded data removed]",
            "text/plain": [
              "<Figure size 432x216 with 2 Axes>"
            ]
          },
          "metadata": {
            "needs_background": "light"
          },
          "output_type": "display_data"
        }
      ],
      "execution_count": 32
    },
    {
      "cell_type": "markdown",
      "source": "* It will be interesting to see what happened to the images that the network got wrong.\n\n* Let's find them.",
      "metadata": {
        "slideshow": {
          "slide_type": "slide"
        }
      }
    },
    {
      "cell_type": "code",
      "source": "predicted_labels = np.apply_along_axis(np.argmax, 1, predictions)\nprint('Predicted labels:', predicted_labels)\nmisclassified = test_labels != predicted_labels\nprint('Misclassified:', misclassified)\nmisclassified_indices = np.argwhere(misclassified)\nprint('Misclassified indices:\\n', misclassified_indices)\nprint('Number of misclassified:', len(misclassified_indices))",
      "metadata": {
        "slideshow": {
          "slide_type": "fragment"
        }
      },
      "outputs": [
        {
          "name": "stdout",
          "output_type": "stream",
          "text": [
            "Predicted labels: [9 2 1 ... 8 1 5]\n",
            "Misclassified: [False False False ... False False False]\n",
            "Misclassified indices:\n",
            " [[  17]\n",
            " [  23]\n",
            " [  25]\n",
            " ...\n",
            " [9977]\n",
            " [9979]\n",
            " [9985]]\n",
            "Number of misclassified: 1305\n"
          ]
        }
      ],
      "execution_count": 33
    },
    {
      "cell_type": "markdown",
      "source": "* Next, let's see them.",
      "metadata": {
        "slideshow": {
          "slide_type": "slide"
        }
      }
    },
    {
      "cell_type": "code",
      "source": "num_rows = 5\nnum_cols = 3\nnum_images = num_rows * num_cols\nplt.figure(figsize=(2*2*num_cols, 2*num_rows))\n\nshow_x_ticks = False\nfor i in range(num_images):\n    if i >= num_images - num_cols:\n        show_x_ticks = True\n    plt.subplot(num_rows, 2*num_cols, 2*i+1)\n    plot_image(misclassified_indices[i-1][0], predictions, test_labels, test_images)\n    plt.subplot(num_rows, 2 * num_cols, 2*i+2)\n    plot_value_array(misclassified_indices[i-1][0], predictions,  test_labels, show_x_ticks)",
      "metadata": {
        "slideshow": {
          "slide_type": "slide"
        },
        "tags": [
          "remove_input"
        ]
      },
      "outputs": [
        {
          "data": {
            "image/png": "[encoded data removed]",
            "text/plain": [
              "<Figure size 864x720 with 30 Axes>"
            ]
          },
          "metadata": {
            "needs_background": "light"
          },
          "output_type": "display_data"
        }
      ],
      "execution_count": 34
    },
    {
      "cell_type": "markdown",
      "source": "* As always, we can use the sort reference.\n\n* Since `predictions` are probability distributions, we get the maximum likelihood class with `np.argmax()`.",
      "metadata": {
        "slideshow": {
          "slide_type": "slide"
        }
      }
    },
    {
      "cell_type": "code",
      "source": "from sklearn.metrics import classification_report\n\nprint(classification_report(test_labels, np.argmax(predictions, axis=1)))",
      "metadata": {
        "slideshow": {
          "slide_type": "slide"
        }
      },
      "outputs": [
        {
          "name": "stdout",
          "output_type": "stream",
          "text": [
            "              precision    recall  f1-score   support\n",
            "\n",
            "           0       0.83      0.81      0.82      1000\n",
            "           1       0.99      0.97      0.98      1000\n",
            "           2       0.72      0.84      0.77      1000\n",
            "           3       0.84      0.92      0.88      1000\n",
            "           4       0.82      0.68      0.74      1000\n",
            "           5       0.99      0.94      0.96      1000\n",
            "           6       0.68      0.67      0.68      1000\n",
            "           7       0.92      0.96      0.94      1000\n",
            "           8       0.98      0.95      0.97      1000\n",
            "           9       0.95      0.95      0.95      1000\n",
            "\n",
            "    accuracy                           0.87     10000\n",
            "   macro avg       0.87      0.87      0.87     10000\n",
            "weighted avg       0.87      0.87      0.87     10000\n",
            "\n"
          ]
        }
      ],
      "execution_count": 35
    },
    {
      "cell_type": "markdown",
      "source": "* And the confusion table:",
      "metadata": {
        "slideshow": {
          "slide_type": "slide"
        }
      }
    },
    {
      "cell_type": "code",
      "source": "from sklearn.metrics import confusion_matrix\n\nprint(confusion_matrix(test_labels, np.argmax(predictions, axis=1)))",
      "metadata": {
        "slideshow": {
          "slide_type": "fragment"
        }
      },
      "outputs": [
        {
          "name": "stdout",
          "output_type": "stream",
          "text": [
            "[[815   2  31  32   3   0 111   0   6   0]\n",
            " [  4 967   1  23   3   0   1   0   1   0]\n",
            " [ 17   0 837  18  72   0  55   0   1   0]\n",
            " [ 20   7  11 917  16   0  25   0   4   0]\n",
            " [  0   0 157  59 679   0 104   0   1   0]\n",
            " [  0   0   0   1   0 942   0  33   2  22]\n",
            " [115   0 118  38  51   0 672   0   6   0]\n",
            " [  0   0   0   0   0   8   0 964   1  27]\n",
            " [  7   0  13   6   2   1  13   4 954   0]\n",
            " [  0   0   0   0   0   4   1  47   0 948]]\n"
          ]
        }
      ],
      "execution_count": 36
    }
  ]
}